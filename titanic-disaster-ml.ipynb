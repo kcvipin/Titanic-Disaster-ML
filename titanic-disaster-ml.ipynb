{
 "cells": [
  {
   "cell_type": "markdown",
   "metadata": {
    "papermill": {
     "duration": 0.039069,
     "end_time": "2023-04-07T19:10:31.778611",
     "exception": false,
     "start_time": "2023-04-07T19:10:31.739542",
     "status": "completed"
    },
    "tags": []
   },
   "source": [
    "\n",
    "## Overview \n",
    "### 1) Understand the shape of the data (Histograms, box plots, etc.)\n",
    "\n",
    "### 2) Data Cleaning \n",
    "\n",
    "### 3) Data Exploration\n",
    "\n",
    "### 4) Feature Engineering \n",
    "\n",
    "### 5) Data Preprocessing for Model\n",
    "\n",
    "### 6) Basic Model Building \n",
    "\n",
    "### 7) Model Tuning \n",
    "\n",
    "### 8) Ensemble Modle Building \n",
    "\n",
    "### 9) Results "
   ]
  },
  {
   "cell_type": "code",
   "execution_count": 1,
   "metadata": {
    "_cell_guid": "b1076dfc-b9ad-4769-8c92-a6c4dae69d19",
    "_uuid": "8f2839f25d086af736a60e9eeb907d3b93b6e0e5",
    "execution": {
     "iopub.execute_input": "2023-04-07T19:10:31.862816Z",
     "iopub.status.busy": "2023-04-07T19:10:31.862120Z",
     "iopub.status.idle": "2023-04-07T19:10:32.696374Z",
     "shell.execute_reply": "2023-04-07T19:10:32.695785Z",
     "shell.execute_reply.started": "2023-04-07T18:22:13.465172Z"
    },
    "papermill": {
     "duration": 0.87996,
     "end_time": "2023-04-07T19:10:32.696486",
     "exception": false,
     "start_time": "2023-04-07T19:10:31.816526",
     "status": "completed"
    },
    "tags": []
   },
   "outputs": [
    {
     "name": "stdout",
     "output_type": "stream",
     "text": [
      "/kaggle/input/titanic/train.csv\n",
      "/kaggle/input/titanic/test.csv\n",
      "/kaggle/input/titanic/gender_submission.csv\n"
     ]
    }
   ],
   "source": [
    "# This Python 3 environment comes with many helpful analytics libraries installed\n",
    "# It is defined by the kaggle/python Docker image: https://github.com/kaggle/docker-python\n",
    "# For example, here's several helpful packages to load\n",
    "\n",
    "import numpy as np # linear algebra\n",
    "import pandas as pd # data processing, CSV file I/O (e.g. pd.read_csv)\n",
    "import seaborn as sns \n",
    "import matplotlib.pyplot as plt\n",
    "# Input data files are available in the read-only \"../input/\" directory\n",
    "# For example, running this (by clicking run or pressing Shift+Enter) will list all files under the input directory\n",
    "\n",
    "import os\n",
    "for dirname, _, filenames in os.walk('/kaggle/input'):\n",
    "    for filename in filenames:\n",
    "        print(os.path.join(dirname, filename))\n",
    "        \n",
    "        \n",
    "# You can write up to 5GB to the current directory (/kaggle/working/) that gets preserved as output when you create a version using \"Save & Run All\" \n",
    "# You can also write temporary files to /kaggle/temp/, but they won't be saved outside of the current session"
   ]
  },
  {
   "cell_type": "markdown",
   "metadata": {
    "papermill": {
     "duration": 0.038255,
     "end_time": "2023-04-07T19:10:32.773158",
     "exception": false,
     "start_time": "2023-04-07T19:10:32.734903",
     "status": "completed"
    },
    "tags": []
   },
   "source": [
    "Here we import the data. For this analysis, we will be exclusively working with the Training set. We will be validating based on data from the training set as well. For our final submissions, we will make predictions based on the test set. "
   ]
  },
  {
   "cell_type": "code",
   "execution_count": 2,
   "metadata": {
    "execution": {
     "iopub.execute_input": "2023-04-07T19:10:32.858436Z",
     "iopub.status.busy": "2023-04-07T19:10:32.857896Z",
     "iopub.status.idle": "2023-04-07T19:10:32.898679Z",
     "shell.execute_reply": "2023-04-07T19:10:32.898066Z",
     "shell.execute_reply.started": "2023-04-07T18:22:14.199488Z"
    },
    "papermill": {
     "duration": 0.086739,
     "end_time": "2023-04-07T19:10:32.898787",
     "exception": false,
     "start_time": "2023-04-07T19:10:32.812048",
     "status": "completed"
    },
    "tags": []
   },
   "outputs": [
    {
     "data": {
      "text/plain": [
       "Index(['PassengerId', 'Survived', 'Pclass', 'Name', 'Sex', 'Age', 'SibSp',\n",
       "       'Parch', 'Ticket', 'Fare', 'Cabin', 'Embarked', 'train_test'],\n",
       "      dtype='object')"
      ]
     },
     "execution_count": 2,
     "metadata": {},
     "output_type": "execute_result"
    }
   ],
   "source": [
    "train_data = pd.read_csv('/kaggle/input/titanic/train.csv')\n",
    "test_data = pd.read_csv('/kaggle/input/titanic/test.csv')\n",
    "\n",
    "train_data['train_test'] = 1\n",
    "test_data['train_test'] = 0\n",
    "test_data['Survived'] = np.NaN\n",
    "all_data = pd.concat([train_data,test_data])\n",
    "\n",
    "%matplotlib inline\n",
    "all_data.columns"
   ]
  },
  {
   "cell_type": "code",
   "execution_count": 3,
   "metadata": {
    "execution": {
     "iopub.execute_input": "2023-04-07T19:10:32.980571Z",
     "iopub.status.busy": "2023-04-07T19:10:32.979992Z",
     "iopub.status.idle": "2023-04-07T19:10:32.991698Z",
     "shell.execute_reply": "2023-04-07T19:10:32.991169Z",
     "shell.execute_reply.started": "2023-04-07T18:22:14.396690Z"
    },
    "papermill": {
     "duration": 0.054975,
     "end_time": "2023-04-07T19:10:32.991814",
     "exception": false,
     "start_time": "2023-04-07T19:10:32.936839",
     "status": "completed"
    },
    "tags": []
   },
   "outputs": [
    {
     "name": "stdout",
     "output_type": "stream",
     "text": [
      "<class 'pandas.core.frame.DataFrame'>\n",
      "RangeIndex: 891 entries, 0 to 890\n",
      "Data columns (total 13 columns):\n",
      " #   Column       Non-Null Count  Dtype  \n",
      "---  ------       --------------  -----  \n",
      " 0   PassengerId  891 non-null    int64  \n",
      " 1   Survived     891 non-null    int64  \n",
      " 2   Pclass       891 non-null    int64  \n",
      " 3   Name         891 non-null    object \n",
      " 4   Sex          891 non-null    object \n",
      " 5   Age          714 non-null    float64\n",
      " 6   SibSp        891 non-null    int64  \n",
      " 7   Parch        891 non-null    int64  \n",
      " 8   Ticket       891 non-null    object \n",
      " 9   Fare         891 non-null    float64\n",
      " 10  Cabin        204 non-null    object \n",
      " 11  Embarked     889 non-null    object \n",
      " 12  train_test   891 non-null    int64  \n",
      "dtypes: float64(2), int64(6), object(5)\n",
      "memory usage: 90.6+ KB\n"
     ]
    }
   ],
   "source": [
    "#quick look at our data types & null counts \n",
    "train_data.info()"
   ]
  },
  {
   "cell_type": "code",
   "execution_count": 4,
   "metadata": {
    "execution": {
     "iopub.execute_input": "2023-04-07T19:10:33.078616Z",
     "iopub.status.busy": "2023-04-07T19:10:33.077757Z",
     "iopub.status.idle": "2023-04-07T19:10:33.111928Z",
     "shell.execute_reply": "2023-04-07T19:10:33.111386Z",
     "shell.execute_reply.started": "2023-04-07T18:22:14.414292Z"
    },
    "papermill": {
     "duration": 0.081397,
     "end_time": "2023-04-07T19:10:33.112046",
     "exception": false,
     "start_time": "2023-04-07T19:10:33.030649",
     "status": "completed"
    },
    "tags": []
   },
   "outputs": [
    {
     "data": {
      "text/html": [
       "<div>\n",
       "<style scoped>\n",
       "    .dataframe tbody tr th:only-of-type {\n",
       "        vertical-align: middle;\n",
       "    }\n",
       "\n",
       "    .dataframe tbody tr th {\n",
       "        vertical-align: top;\n",
       "    }\n",
       "\n",
       "    .dataframe thead th {\n",
       "        text-align: right;\n",
       "    }\n",
       "</style>\n",
       "<table border=\"1\" class=\"dataframe\">\n",
       "  <thead>\n",
       "    <tr style=\"text-align: right;\">\n",
       "      <th></th>\n",
       "      <th>PassengerId</th>\n",
       "      <th>Survived</th>\n",
       "      <th>Pclass</th>\n",
       "      <th>Age</th>\n",
       "      <th>SibSp</th>\n",
       "      <th>Parch</th>\n",
       "      <th>Fare</th>\n",
       "      <th>train_test</th>\n",
       "    </tr>\n",
       "  </thead>\n",
       "  <tbody>\n",
       "    <tr>\n",
       "      <th>count</th>\n",
       "      <td>891.000000</td>\n",
       "      <td>891.000000</td>\n",
       "      <td>891.000000</td>\n",
       "      <td>714.000000</td>\n",
       "      <td>891.000000</td>\n",
       "      <td>891.000000</td>\n",
       "      <td>891.000000</td>\n",
       "      <td>891.0</td>\n",
       "    </tr>\n",
       "    <tr>\n",
       "      <th>mean</th>\n",
       "      <td>446.000000</td>\n",
       "      <td>0.383838</td>\n",
       "      <td>2.308642</td>\n",
       "      <td>29.699118</td>\n",
       "      <td>0.523008</td>\n",
       "      <td>0.381594</td>\n",
       "      <td>32.204208</td>\n",
       "      <td>1.0</td>\n",
       "    </tr>\n",
       "    <tr>\n",
       "      <th>std</th>\n",
       "      <td>257.353842</td>\n",
       "      <td>0.486592</td>\n",
       "      <td>0.836071</td>\n",
       "      <td>14.526497</td>\n",
       "      <td>1.102743</td>\n",
       "      <td>0.806057</td>\n",
       "      <td>49.693429</td>\n",
       "      <td>0.0</td>\n",
       "    </tr>\n",
       "    <tr>\n",
       "      <th>min</th>\n",
       "      <td>1.000000</td>\n",
       "      <td>0.000000</td>\n",
       "      <td>1.000000</td>\n",
       "      <td>0.420000</td>\n",
       "      <td>0.000000</td>\n",
       "      <td>0.000000</td>\n",
       "      <td>0.000000</td>\n",
       "      <td>1.0</td>\n",
       "    </tr>\n",
       "    <tr>\n",
       "      <th>25%</th>\n",
       "      <td>223.500000</td>\n",
       "      <td>0.000000</td>\n",
       "      <td>2.000000</td>\n",
       "      <td>20.125000</td>\n",
       "      <td>0.000000</td>\n",
       "      <td>0.000000</td>\n",
       "      <td>7.910400</td>\n",
       "      <td>1.0</td>\n",
       "    </tr>\n",
       "    <tr>\n",
       "      <th>50%</th>\n",
       "      <td>446.000000</td>\n",
       "      <td>0.000000</td>\n",
       "      <td>3.000000</td>\n",
       "      <td>28.000000</td>\n",
       "      <td>0.000000</td>\n",
       "      <td>0.000000</td>\n",
       "      <td>14.454200</td>\n",
       "      <td>1.0</td>\n",
       "    </tr>\n",
       "    <tr>\n",
       "      <th>75%</th>\n",
       "      <td>668.500000</td>\n",
       "      <td>1.000000</td>\n",
       "      <td>3.000000</td>\n",
       "      <td>38.000000</td>\n",
       "      <td>1.000000</td>\n",
       "      <td>0.000000</td>\n",
       "      <td>31.000000</td>\n",
       "      <td>1.0</td>\n",
       "    </tr>\n",
       "    <tr>\n",
       "      <th>max</th>\n",
       "      <td>891.000000</td>\n",
       "      <td>1.000000</td>\n",
       "      <td>3.000000</td>\n",
       "      <td>80.000000</td>\n",
       "      <td>8.000000</td>\n",
       "      <td>6.000000</td>\n",
       "      <td>512.329200</td>\n",
       "      <td>1.0</td>\n",
       "    </tr>\n",
       "  </tbody>\n",
       "</table>\n",
       "</div>"
      ],
      "text/plain": [
       "       PassengerId    Survived      Pclass         Age       SibSp  \\\n",
       "count   891.000000  891.000000  891.000000  714.000000  891.000000   \n",
       "mean    446.000000    0.383838    2.308642   29.699118    0.523008   \n",
       "std     257.353842    0.486592    0.836071   14.526497    1.102743   \n",
       "min       1.000000    0.000000    1.000000    0.420000    0.000000   \n",
       "25%     223.500000    0.000000    2.000000   20.125000    0.000000   \n",
       "50%     446.000000    0.000000    3.000000   28.000000    0.000000   \n",
       "75%     668.500000    1.000000    3.000000   38.000000    1.000000   \n",
       "max     891.000000    1.000000    3.000000   80.000000    8.000000   \n",
       "\n",
       "            Parch        Fare  train_test  \n",
       "count  891.000000  891.000000       891.0  \n",
       "mean     0.381594   32.204208         1.0  \n",
       "std      0.806057   49.693429         0.0  \n",
       "min      0.000000    0.000000         1.0  \n",
       "25%      0.000000    7.910400         1.0  \n",
       "50%      0.000000   14.454200         1.0  \n",
       "75%      0.000000   31.000000         1.0  \n",
       "max      6.000000  512.329200         1.0  "
      ]
     },
     "execution_count": 4,
     "metadata": {},
     "output_type": "execute_result"
    }
   ],
   "source": [
    "# to better understand the numeric data, we want to use the .describe() method. This gives us an understanding of the central tendencies of the data \n",
    "train_data.describe()"
   ]
  },
  {
   "cell_type": "code",
   "execution_count": 5,
   "metadata": {
    "execution": {
     "iopub.execute_input": "2023-04-07T19:10:33.198620Z",
     "iopub.status.busy": "2023-04-07T19:10:33.197985Z",
     "iopub.status.idle": "2023-04-07T19:10:33.216003Z",
     "shell.execute_reply": "2023-04-07T19:10:33.215467Z",
     "shell.execute_reply.started": "2023-04-07T18:22:14.462434Z"
    },
    "papermill": {
     "duration": 0.065229,
     "end_time": "2023-04-07T19:10:33.216128",
     "exception": false,
     "start_time": "2023-04-07T19:10:33.150899",
     "status": "completed"
    },
    "tags": []
   },
   "outputs": [
    {
     "data": {
      "text/plain": [
       "Index(['PassengerId', 'Survived', 'Pclass', 'Age', 'SibSp', 'Parch', 'Fare',\n",
       "       'train_test'],\n",
       "      dtype='object')"
      ]
     },
     "execution_count": 5,
     "metadata": {},
     "output_type": "execute_result"
    }
   ],
   "source": [
    "#quick way to separate numeric columns\n",
    "train_data.describe().columns"
   ]
  },
  {
   "cell_type": "code",
   "execution_count": 6,
   "metadata": {
    "execution": {
     "iopub.execute_input": "2023-04-07T19:10:33.304496Z",
     "iopub.status.busy": "2023-04-07T19:10:33.303838Z",
     "iopub.status.idle": "2023-04-07T19:10:33.306716Z",
     "shell.execute_reply": "2023-04-07T19:10:33.306231Z",
     "shell.execute_reply.started": "2023-04-07T18:22:14.496317Z"
    },
    "papermill": {
     "duration": 0.050891,
     "end_time": "2023-04-07T19:10:33.306819",
     "exception": false,
     "start_time": "2023-04-07T19:10:33.255928",
     "status": "completed"
    },
    "tags": []
   },
   "outputs": [],
   "source": [
    "# look at numeric and categorical values separately \n",
    "df_num = train_data[['Age','SibSp','Parch','Fare']]\n",
    "df_cat = train_data[['Survived','Pclass','Sex','Ticket','Cabin','Embarked']]"
   ]
  },
  {
   "cell_type": "code",
   "execution_count": 7,
   "metadata": {
    "execution": {
     "iopub.execute_input": "2023-04-07T19:10:33.392659Z",
     "iopub.status.busy": "2023-04-07T19:10:33.391979Z",
     "iopub.status.idle": "2023-04-07T19:10:33.980432Z",
     "shell.execute_reply": "2023-04-07T19:10:33.979775Z",
     "shell.execute_reply.started": "2023-04-07T18:22:14.506378Z"
    },
    "papermill": {
     "duration": 0.634245,
     "end_time": "2023-04-07T19:10:33.980545",
     "exception": false,
     "start_time": "2023-04-07T19:10:33.346300",
     "status": "completed"
    },
    "tags": []
   },
   "outputs": [
    {
     "name": "stderr",
     "output_type": "stream",
     "text": [
      "/opt/conda/lib/python3.7/site-packages/numpy/lib/histograms.py:839: RuntimeWarning: invalid value encountered in greater_equal\n",
      "  keep = (tmp_a >= first_edge)\n",
      "/opt/conda/lib/python3.7/site-packages/numpy/lib/histograms.py:840: RuntimeWarning: invalid value encountered in less_equal\n",
      "  keep &= (tmp_a <= last_edge)\n"
     ]
    },
    {
     "data": {
      "image/png": "[encoded data removed]",
      "text/plain": [
       "<Figure size 432x288 with 1 Axes>"
      ]
     },
     "metadata": {
      "needs_background": "light"
     },
     "output_type": "display_data"
    },
    {
     "data": {
      "image/png": "[encoded data removed]",
      "text/plain": [
       "<Figure size 432x288 with 1 Axes>"
      ]
     },
     "metadata": {
      "needs_background": "light"
     },
     "output_type": "display_data"
    },
    {
     "data": {
      "image/png": "[encoded data removed]",
      "text/plain": [
       "<Figure size 432x288 with 1 Axes>"
      ]
     },
     "metadata": {
      "needs_background": "light"
     },
     "output_type": "display_data"
    },
    {
     "data": {
      "image/png": "[encoded data removed]",
      "text/plain": [
       "<Figure size 432x288 with 1 Axes>"
      ]
     },
     "metadata": {
      "needs_background": "light"
     },
     "output_type": "display_data"
    }
   ],
   "source": [
    "#distributions for all numeric variables \n",
    "for i in df_num.columns:\n",
    "    plt.hist(df_num[i])\n",
    "    plt.title(i)\n",
    "    plt.show()"
   ]
  },
  {
   "cell_type": "markdown",
   "metadata": {
    "papermill": {
     "duration": 0.041661,
     "end_time": "2023-04-07T19:10:34.065117",
     "exception": false,
     "start_time": "2023-04-07T19:10:34.023456",
     "status": "completed"
    },
    "tags": []
   },
   "source": [
    "Perhaps we should take the non-normal distributions and consider normalizing them?"
   ]
  },
  {
   "cell_type": "markdown",
   "metadata": {
    "papermill": {
     "duration": 0.042611,
     "end_time": "2023-04-07T19:10:34.150317",
     "exception": false,
     "start_time": "2023-04-07T19:10:34.107706",
     "status": "completed"
    },
    "tags": []
   },
   "source": [
    "\n"
   ]
  },
  {
   "cell_type": "code",
   "execution_count": 8,
   "metadata": {
    "execution": {
     "iopub.execute_input": "2023-04-07T19:10:34.244310Z",
     "iopub.status.busy": "2023-04-07T19:10:34.240437Z",
     "iopub.status.idle": "2023-04-07T19:10:34.458026Z",
     "shell.execute_reply": "2023-04-07T19:10:34.458588Z",
     "shell.execute_reply.started": "2023-04-07T18:22:15.240651Z"
    },
    "papermill": {
     "duration": 0.266746,
     "end_time": "2023-04-07T19:10:34.458746",
     "exception": false,
     "start_time": "2023-04-07T19:10:34.192000",
     "status": "completed"
    },
    "tags": []
   },
   "outputs": [
    {
     "name": "stdout",
     "output_type": "stream",
     "text": [
      "            Age     SibSp     Parch      Fare\n",
      "Age    1.000000 -0.308247 -0.189119  0.096067\n",
      "SibSp -0.308247  1.000000  0.414838  0.159651\n",
      "Parch -0.189119  0.414838  1.000000  0.216225\n",
      "Fare   0.096067  0.159651  0.216225  1.000000\n"
     ]
    },
    {
     "data": {
      "text/plain": [
       "<matplotlib.axes._subplots.AxesSubplot at 0x7435262cbe50>"
      ]
     },
     "execution_count": 8,
     "metadata": {},
     "output_type": "execute_result"
    },
    {
     "data": {
      "image/png": "[encoded data removed]",
      "text/plain": [
       "<Figure size 432x288 with 2 Axes>"
      ]
     },
     "metadata": {
      "needs_background": "light"
     },
     "output_type": "display_data"
    }
   ],
   "source": [
    "print(df_num.corr())\n",
    "sns.heatmap(df_num.corr(),annot=True)"
   ]
  },
  {
   "cell_type": "code",
   "execution_count": 9,
   "metadata": {
    "execution": {
     "iopub.execute_input": "2023-04-07T19:10:34.568765Z",
     "iopub.status.busy": "2023-04-07T19:10:34.567992Z",
     "iopub.status.idle": "2023-04-07T19:10:34.573238Z",
     "shell.execute_reply": "2023-04-07T19:10:34.573688Z",
     "shell.execute_reply.started": "2023-04-07T18:22:15.509708Z"
    },
    "papermill": {
     "duration": 0.072286,
     "end_time": "2023-04-07T19:10:34.573841",
     "exception": false,
     "start_time": "2023-04-07T19:10:34.501555",
     "status": "completed"
    },
    "tags": []
   },
   "outputs": [
    {
     "data": {
      "text/html": [
       "<div>\n",
       "<style scoped>\n",
       "    .dataframe tbody tr th:only-of-type {\n",
       "        vertical-align: middle;\n",
       "    }\n",
       "\n",
       "    .dataframe tbody tr th {\n",
       "        vertical-align: top;\n",
       "    }\n",
       "\n",
       "    .dataframe thead th {\n",
       "        text-align: right;\n",
       "    }\n",
       "</style>\n",
       "<table border=\"1\" class=\"dataframe\">\n",
       "  <thead>\n",
       "    <tr style=\"text-align: right;\">\n",
       "      <th></th>\n",
       "      <th>Age</th>\n",
       "      <th>Fare</th>\n",
       "      <th>Parch</th>\n",
       "      <th>SibSp</th>\n",
       "    </tr>\n",
       "    <tr>\n",
       "      <th>Survived</th>\n",
       "      <th></th>\n",
       "      <th></th>\n",
       "      <th></th>\n",
       "      <th></th>\n",
       "    </tr>\n",
       "  </thead>\n",
       "  <tbody>\n",
       "    <tr>\n",
       "      <th>0</th>\n",
       "      <td>30.626179</td>\n",
       "      <td>22.117887</td>\n",
       "      <td>0.329690</td>\n",
       "      <td>0.553734</td>\n",
       "    </tr>\n",
       "    <tr>\n",
       "      <th>1</th>\n",
       "      <td>28.343690</td>\n",
       "      <td>48.395408</td>\n",
       "      <td>0.464912</td>\n",
       "      <td>0.473684</td>\n",
       "    </tr>\n",
       "  </tbody>\n",
       "</table>\n",
       "</div>"
      ],
      "text/plain": [
       "                Age       Fare     Parch     SibSp\n",
       "Survived                                          \n",
       "0         30.626179  22.117887  0.329690  0.553734\n",
       "1         28.343690  48.395408  0.464912  0.473684"
      ]
     },
     "execution_count": 9,
     "metadata": {},
     "output_type": "execute_result"
    }
   ],
   "source": [
    "# compare survival rate across Age, SibSp, Parch, and Fare \n",
    "pd.pivot_table(train_data, index = 'Survived', values = ['Age','SibSp','Parch','Fare'])"
   ]
  },
  {
   "cell_type": "code",
   "execution_count": 10,
   "metadata": {
    "execution": {
     "iopub.execute_input": "2023-04-07T19:10:34.667934Z",
     "iopub.status.busy": "2023-04-07T19:10:34.667065Z",
     "iopub.status.idle": "2023-04-07T19:10:42.297147Z",
     "shell.execute_reply": "2023-04-07T19:10:42.296667Z",
     "shell.execute_reply.started": "2023-04-07T18:22:15.539222Z"
    },
    "papermill": {
     "duration": 7.680324,
     "end_time": "2023-04-07T19:10:42.297269",
     "exception": false,
     "start_time": "2023-04-07T19:10:34.616945",
     "status": "completed"
    },
    "tags": []
   },
   "outputs": [
    {
     "data": {
      "image/png": "[encoded data removed]",
      "text/plain": [
       "<Figure size 432x288 with 1 Axes>"
      ]
     },
     "metadata": {
      "needs_background": "light"
     },
     "output_type": "display_data"
    },
    {
     "data": {
      "image/png": "[encoded data removed]",
      "text/plain": [
       "<Figure size 432x288 with 1 Axes>"
      ]
     },
     "metadata": {
      "needs_background": "light"
     },
     "output_type": "display_data"
    },
    {
     "data": {
      "image/png": "[encoded data removed]",
      "text/plain": [
       "<Figure size 432x288 with 1 Axes>"
      ]
     },
     "metadata": {
      "needs_background": "light"
     },
     "output_type": "display_data"
    },
    {
     "data": {
      "image/png": "[encoded data removed]",
      "text/plain": [
       "<Figure size 432x288 with 1 Axes>"
      ]
     },
     "metadata": {
      "needs_background": "light"
     },
     "output_type": "display_data"
    },
    {
     "data": {
      "image/png": "[encoded data removed]",
      "text/plain": [
       "<Figure size 432x288 with 1 Axes>"
      ]
     },
     "metadata": {
      "needs_background": "light"
     },
     "output_type": "display_data"
    },
    {
     "data": {
      "image/png": "[encoded data removed]",
      "text/plain": [
       "<Figure size 432x288 with 1 Axes>"
      ]
     },
     "metadata": {
      "needs_background": "light"
     },
     "output_type": "display_data"
    }
   ],
   "source": [
    "for i in df_cat.columns:\n",
    "    sns.barplot(df_cat[i].value_counts().index,df_cat[i].value_counts()).set_title(i)\n",
    "    plt.show()\\\n",
    "    "
   ]
  },
  {
   "cell_type": "markdown",
   "metadata": {
    "papermill": {
     "duration": 0.045806,
     "end_time": "2023-04-07T19:10:42.391166",
     "exception": false,
     "start_time": "2023-04-07T19:10:42.345360",
     "status": "completed"
    },
    "tags": []
   },
   "source": [
    "Cabin and ticket graphs are very messy. This is an area where we may want to do some feature engineering! "
   ]
  },
  {
   "cell_type": "code",
   "execution_count": 11,
   "metadata": {
    "execution": {
     "iopub.execute_input": "2023-04-07T19:10:42.488627Z",
     "iopub.status.busy": "2023-04-07T19:10:42.487943Z",
     "iopub.status.idle": "2023-04-07T19:10:42.535647Z",
     "shell.execute_reply": "2023-04-07T19:10:42.535171Z",
     "shell.execute_reply.started": "2023-04-07T18:22:25.954904Z"
    },
    "papermill": {
     "duration": 0.098009,
     "end_time": "2023-04-07T19:10:42.535752",
     "exception": false,
     "start_time": "2023-04-07T19:10:42.437743",
     "status": "completed"
    },
    "tags": []
   },
   "outputs": [
    {
     "name": "stdout",
     "output_type": "stream",
     "text": [
      "Pclass      1   2    3\n",
      "Survived              \n",
      "0          80  97  372\n",
      "1         136  87  119\n",
      "\n",
      "Sex       female  male\n",
      "Survived              \n",
      "0             81   468\n",
      "1            233   109\n",
      "\n",
      "Embarked   C   Q    S\n",
      "Survived             \n",
      "0         75  47  427\n",
      "1         93  30  217\n"
     ]
    }
   ],
   "source": [
    "# Comparing survival and each of these categorical variables \n",
    "print(pd.pivot_table(train_data, index = 'Survived', columns = 'Pclass', values = 'Ticket' ,aggfunc ='count'))\n",
    "print()\n",
    "print(pd.pivot_table(train_data, index = 'Survived', columns = 'Sex', values = 'Ticket' ,aggfunc ='count'))\n",
    "print()\n",
    "print(pd.pivot_table(train_data, index = 'Survived', columns = 'Embarked', values = 'Ticket' ,aggfunc ='count'))"
   ]
  },
  {
   "cell_type": "markdown",
   "metadata": {
    "papermill": {
     "duration": 0.045871,
     "end_time": "2023-04-07T19:10:42.627686",
     "exception": false,
     "start_time": "2023-04-07T19:10:42.581815",
     "status": "completed"
    },
    "tags": []
   },
   "source": [
    "## Feature Engineering \n",
    "### 1) Cabin - Simplify cabins (evaluated if cabin letter (cabin_adv) or the purchase of tickets across multiple cabins (cabin_multiple) impacted survival)\n",
    "\n",
    "### 2) Tickets - Do different ticket types impact survival rates?\n",
    "\n",
    "### 3) Does a person's title relate to survival rates? "
   ]
  },
  {
   "cell_type": "code",
   "execution_count": 12,
   "metadata": {
    "execution": {
     "iopub.execute_input": "2023-04-07T19:10:42.724162Z",
     "iopub.status.busy": "2023-04-07T19:10:42.723578Z",
     "iopub.status.idle": "2023-04-07T19:10:42.732690Z",
     "shell.execute_reply": "2023-04-07T19:10:42.733139Z",
     "shell.execute_reply.started": "2023-04-07T18:22:26.013519Z"
    },
    "papermill": {
     "duration": 0.059037,
     "end_time": "2023-04-07T19:10:42.733333",
     "exception": false,
     "start_time": "2023-04-07T19:10:42.674296",
     "status": "completed"
    },
    "tags": []
   },
   "outputs": [
    {
     "data": {
      "text/plain": [
       "0    687\n",
       "1    180\n",
       "2     16\n",
       "3      6\n",
       "4      2\n",
       "Name: cabin_multiple, dtype: int64"
      ]
     },
     "execution_count": 12,
     "metadata": {},
     "output_type": "execute_result"
    }
   ],
   "source": [
    "df_cat.Cabin\n",
    "train_data['cabin_multiple'] = train_data.Cabin.apply(lambda x: 0 if pd.isna(x) else len(x.split(' ')))\n",
    "# after looking at this, we may want to look at cabin by letter or by number. Let's create some categories for this \n",
    "# letters \n",
    "# multiple letters \n",
    "train_data['cabin_multiple'].value_counts()"
   ]
  },
  {
   "cell_type": "code",
   "execution_count": 13,
   "metadata": {
    "execution": {
     "iopub.execute_input": "2023-04-07T19:10:42.830367Z",
     "iopub.status.busy": "2023-04-07T19:10:42.829840Z",
     "iopub.status.idle": "2023-04-07T19:10:42.851983Z",
     "shell.execute_reply": "2023-04-07T19:10:42.851478Z",
     "shell.execute_reply.started": "2023-04-07T18:22:26.029026Z"
    },
    "papermill": {
     "duration": 0.072164,
     "end_time": "2023-04-07T19:10:42.852116",
     "exception": false,
     "start_time": "2023-04-07T19:10:42.779952",
     "status": "completed"
    },
    "tags": []
   },
   "outputs": [
    {
     "data": {
      "text/html": [
       "<div>\n",
       "<style scoped>\n",
       "    .dataframe tbody tr th:only-of-type {\n",
       "        vertical-align: middle;\n",
       "    }\n",
       "\n",
       "    .dataframe tbody tr th {\n",
       "        vertical-align: top;\n",
       "    }\n",
       "\n",
       "    .dataframe thead th {\n",
       "        text-align: right;\n",
       "    }\n",
       "</style>\n",
       "<table border=\"1\" class=\"dataframe\">\n",
       "  <thead>\n",
       "    <tr style=\"text-align: right;\">\n",
       "      <th>cabin_multiple</th>\n",
       "      <th>0</th>\n",
       "      <th>1</th>\n",
       "      <th>2</th>\n",
       "      <th>3</th>\n",
       "      <th>4</th>\n",
       "    </tr>\n",
       "    <tr>\n",
       "      <th>Survived</th>\n",
       "      <th></th>\n",
       "      <th></th>\n",
       "      <th></th>\n",
       "      <th></th>\n",
       "      <th></th>\n",
       "    </tr>\n",
       "  </thead>\n",
       "  <tbody>\n",
       "    <tr>\n",
       "      <th>0</th>\n",
       "      <td>481.0</td>\n",
       "      <td>58.0</td>\n",
       "      <td>7.0</td>\n",
       "      <td>3.0</td>\n",
       "      <td>NaN</td>\n",
       "    </tr>\n",
       "    <tr>\n",
       "      <th>1</th>\n",
       "      <td>206.0</td>\n",
       "      <td>122.0</td>\n",
       "      <td>9.0</td>\n",
       "      <td>3.0</td>\n",
       "      <td>2.0</td>\n",
       "    </tr>\n",
       "  </tbody>\n",
       "</table>\n",
       "</div>"
      ],
      "text/plain": [
       "cabin_multiple      0      1    2    3    4\n",
       "Survived                                   \n",
       "0               481.0   58.0  7.0  3.0  NaN\n",
       "1               206.0  122.0  9.0  3.0  2.0"
      ]
     },
     "execution_count": 13,
     "metadata": {},
     "output_type": "execute_result"
    }
   ],
   "source": [
    "pd.pivot_table(train_data, index = 'Survived', columns = 'cabin_multiple', values = 'Ticket' ,aggfunc ='count')"
   ]
  },
  {
   "cell_type": "code",
   "execution_count": 14,
   "metadata": {
    "execution": {
     "iopub.execute_input": "2023-04-07T19:10:42.950454Z",
     "iopub.status.busy": "2023-04-07T19:10:42.949840Z",
     "iopub.status.idle": "2023-04-07T19:10:42.954189Z",
     "shell.execute_reply": "2023-04-07T19:10:42.954654Z",
     "shell.execute_reply.started": "2023-04-07T18:22:26.058233Z"
    },
    "papermill": {
     "duration": 0.055162,
     "end_time": "2023-04-07T19:10:42.954789",
     "exception": false,
     "start_time": "2023-04-07T19:10:42.899627",
     "status": "completed"
    },
    "tags": []
   },
   "outputs": [],
   "source": [
    "#creates categories based on the cabin letter (n stands for null)\n",
    "#in this case we will treat null values like it's own category\n",
    "\n",
    "train_data['cabin_adv'] = train_data.Cabin.apply(lambda x: str(x)[0])\n"
   ]
  },
  {
   "cell_type": "code",
   "execution_count": 15,
   "metadata": {
    "execution": {
     "iopub.execute_input": "2023-04-07T19:10:43.059027Z",
     "iopub.status.busy": "2023-04-07T19:10:43.058482Z",
     "iopub.status.idle": "2023-04-07T19:10:43.077962Z",
     "shell.execute_reply": "2023-04-07T19:10:43.078485Z",
     "shell.execute_reply.started": "2023-04-07T18:22:26.067760Z"
    },
    "papermill": {
     "duration": 0.076833,
     "end_time": "2023-04-07T19:10:43.078606",
     "exception": false,
     "start_time": "2023-04-07T19:10:43.001773",
     "status": "completed"
    },
    "tags": []
   },
   "outputs": [
    {
     "name": "stdout",
     "output_type": "stream",
     "text": [
      "n    687\n",
      "C     59\n",
      "B     47\n",
      "D     33\n",
      "E     32\n",
      "A     15\n",
      "F     13\n",
      "G      4\n",
      "T      1\n",
      "Name: cabin_adv, dtype: int64\n"
     ]
    },
    {
     "data": {
      "text/html": [
       "<div>\n",
       "<style scoped>\n",
       "    .dataframe tbody tr th:only-of-type {\n",
       "        vertical-align: middle;\n",
       "    }\n",
       "\n",
       "    .dataframe tbody tr th {\n",
       "        vertical-align: top;\n",
       "    }\n",
       "\n",
       "    .dataframe thead th {\n",
       "        text-align: right;\n",
       "    }\n",
       "</style>\n",
       "<table border=\"1\" class=\"dataframe\">\n",
       "  <thead>\n",
       "    <tr style=\"text-align: right;\">\n",
       "      <th>cabin_adv</th>\n",
       "      <th>A</th>\n",
       "      <th>B</th>\n",
       "      <th>C</th>\n",
       "      <th>D</th>\n",
       "      <th>E</th>\n",
       "      <th>F</th>\n",
       "      <th>G</th>\n",
       "      <th>T</th>\n",
       "      <th>n</th>\n",
       "    </tr>\n",
       "    <tr>\n",
       "      <th>Survived</th>\n",
       "      <th></th>\n",
       "      <th></th>\n",
       "      <th></th>\n",
       "      <th></th>\n",
       "      <th></th>\n",
       "      <th></th>\n",
       "      <th></th>\n",
       "      <th></th>\n",
       "      <th></th>\n",
       "    </tr>\n",
       "  </thead>\n",
       "  <tbody>\n",
       "    <tr>\n",
       "      <th>0</th>\n",
       "      <td>8.0</td>\n",
       "      <td>12.0</td>\n",
       "      <td>24.0</td>\n",
       "      <td>8.0</td>\n",
       "      <td>8.0</td>\n",
       "      <td>5.0</td>\n",
       "      <td>2.0</td>\n",
       "      <td>1.0</td>\n",
       "      <td>481.0</td>\n",
       "    </tr>\n",
       "    <tr>\n",
       "      <th>1</th>\n",
       "      <td>7.0</td>\n",
       "      <td>35.0</td>\n",
       "      <td>35.0</td>\n",
       "      <td>25.0</td>\n",
       "      <td>24.0</td>\n",
       "      <td>8.0</td>\n",
       "      <td>2.0</td>\n",
       "      <td>NaN</td>\n",
       "      <td>206.0</td>\n",
       "    </tr>\n",
       "  </tbody>\n",
       "</table>\n",
       "</div>"
      ],
      "text/plain": [
       "cabin_adv    A     B     C     D     E    F    G    T      n\n",
       "Survived                                                    \n",
       "0          8.0  12.0  24.0   8.0   8.0  5.0  2.0  1.0  481.0\n",
       "1          7.0  35.0  35.0  25.0  24.0  8.0  2.0  NaN  206.0"
      ]
     },
     "execution_count": 15,
     "metadata": {},
     "output_type": "execute_result"
    }
   ],
   "source": [
    "#comparing surivial rate by cabin\n",
    "print(train_data.cabin_adv.value_counts())\n",
    "pd.pivot_table(train_data,index='Survived',columns='cabin_adv', values = 'Name', aggfunc='count')"
   ]
  },
  {
   "cell_type": "code",
   "execution_count": 16,
   "metadata": {
    "execution": {
     "iopub.execute_input": "2023-04-07T19:10:43.178917Z",
     "iopub.status.busy": "2023-04-07T19:10:43.178385Z",
     "iopub.status.idle": "2023-04-07T19:10:43.186817Z",
     "shell.execute_reply": "2023-04-07T19:10:43.187311Z",
     "shell.execute_reply.started": "2023-04-07T18:22:26.118573Z"
    },
    "papermill": {
     "duration": 0.060146,
     "end_time": "2023-04-07T19:10:43.187501",
     "exception": false,
     "start_time": "2023-04-07T19:10:43.127355",
     "status": "completed"
    },
    "tags": []
   },
   "outputs": [],
   "source": [
    "#understand ticket values better \n",
    "#numeric vs non numeric \n",
    "train_data['numeric_ticket'] = train_data.Ticket.apply(lambda x: 1 if x.isnumeric() else 0)\n",
    "train_data['ticket_letters'] = train_data.Ticket.apply(lambda x: ''.join(x.split(' ')[:-1]).replace('.','').replace('/','').lower() if len(x.split(' ')[:-1]) >0 else 0)\n"
   ]
  },
  {
   "cell_type": "code",
   "execution_count": 17,
   "metadata": {
    "execution": {
     "iopub.execute_input": "2023-04-07T19:10:43.287613Z",
     "iopub.status.busy": "2023-04-07T19:10:43.287002Z",
     "iopub.status.idle": "2023-04-07T19:10:43.292747Z",
     "shell.execute_reply": "2023-04-07T19:10:43.293172Z",
     "shell.execute_reply.started": "2023-04-07T18:22:26.131715Z"
    },
    "papermill": {
     "duration": 0.057848,
     "end_time": "2023-04-07T19:10:43.293322",
     "exception": false,
     "start_time": "2023-04-07T19:10:43.235474",
     "status": "completed"
    },
    "tags": []
   },
   "outputs": [
    {
     "data": {
      "text/plain": [
       "1    661\n",
       "0    230\n",
       "Name: numeric_ticket, dtype: int64"
      ]
     },
     "execution_count": 17,
     "metadata": {},
     "output_type": "execute_result"
    }
   ],
   "source": [
    "train_data['numeric_ticket'].value_counts()"
   ]
  },
  {
   "cell_type": "code",
   "execution_count": 18,
   "metadata": {
    "execution": {
     "iopub.execute_input": "2023-04-07T19:10:43.391954Z",
     "iopub.status.busy": "2023-04-07T19:10:43.391394Z",
     "iopub.status.idle": "2023-04-07T19:10:43.400115Z",
     "shell.execute_reply": "2023-04-07T19:10:43.400580Z",
     "shell.execute_reply.started": "2023-04-07T18:22:26.151365Z"
    },
    "papermill": {
     "duration": 0.059759,
     "end_time": "2023-04-07T19:10:43.400726",
     "exception": false,
     "start_time": "2023-04-07T19:10:43.340967",
     "status": "completed"
    },
    "tags": []
   },
   "outputs": [
    {
     "data": {
      "text/plain": [
       "0            665\n",
       "pc            60\n",
       "ca            41\n",
       "a5            21\n",
       "stono2        18\n",
       "sotonoq       15\n",
       "scparis       11\n",
       "wc            10\n",
       "a4             7\n",
       "soc            6\n",
       "fcc            5\n",
       "c              5\n",
       "wep            3\n",
       "pp             3\n",
       "sopp           3\n",
       "ppp            2\n",
       "swpp           2\n",
       "sotono2        2\n",
       "scah           2\n",
       "scow           1\n",
       "casoton        1\n",
       "sc             1\n",
       "fa             1\n",
       "scahbasle      1\n",
       "as             1\n",
       "fc             1\n",
       "sp             1\n",
       "sca4           1\n",
       "sop            1\n",
       "Name: ticket_letters, dtype: int64"
      ]
     },
     "execution_count": 18,
     "metadata": {},
     "output_type": "execute_result"
    }
   ],
   "source": [
    "#lets us view all rows in dataframe through scrolling. This is for convenience \n",
    "pd.set_option(\"max_rows\", None)\n",
    "train_data['ticket_letters'].value_counts()\n"
   ]
  },
  {
   "cell_type": "code",
   "execution_count": 19,
   "metadata": {
    "execution": {
     "iopub.execute_input": "2023-04-07T19:10:43.508429Z",
     "iopub.status.busy": "2023-04-07T19:10:43.507814Z",
     "iopub.status.idle": "2023-04-07T19:10:43.517908Z",
     "shell.execute_reply": "2023-04-07T19:10:43.517478Z",
     "shell.execute_reply.started": "2023-04-07T18:22:26.167257Z"
    },
    "papermill": {
     "duration": 0.068858,
     "end_time": "2023-04-07T19:10:43.518008",
     "exception": false,
     "start_time": "2023-04-07T19:10:43.449150",
     "status": "completed"
    },
    "tags": []
   },
   "outputs": [
    {
     "data": {
      "text/html": [
       "<div>\n",
       "<style scoped>\n",
       "    .dataframe tbody tr th:only-of-type {\n",
       "        vertical-align: middle;\n",
       "    }\n",
       "\n",
       "    .dataframe tbody tr th {\n",
       "        vertical-align: top;\n",
       "    }\n",
       "\n",
       "    .dataframe thead th {\n",
       "        text-align: right;\n",
       "    }\n",
       "</style>\n",
       "<table border=\"1\" class=\"dataframe\">\n",
       "  <thead>\n",
       "    <tr style=\"text-align: right;\">\n",
       "      <th>numeric_ticket</th>\n",
       "      <th>0</th>\n",
       "      <th>1</th>\n",
       "    </tr>\n",
       "    <tr>\n",
       "      <th>Survived</th>\n",
       "      <th></th>\n",
       "      <th></th>\n",
       "    </tr>\n",
       "  </thead>\n",
       "  <tbody>\n",
       "    <tr>\n",
       "      <th>0</th>\n",
       "      <td>142</td>\n",
       "      <td>407</td>\n",
       "    </tr>\n",
       "    <tr>\n",
       "      <th>1</th>\n",
       "      <td>88</td>\n",
       "      <td>254</td>\n",
       "    </tr>\n",
       "  </tbody>\n",
       "</table>\n",
       "</div>"
      ],
      "text/plain": [
       "numeric_ticket    0    1\n",
       "Survived                \n",
       "0               142  407\n",
       "1                88  254"
      ]
     },
     "execution_count": 19,
     "metadata": {},
     "output_type": "execute_result"
    }
   ],
   "source": [
    "#difference in numeric vs non-numeric tickets in survival rate \n",
    "pd.pivot_table(train_data,index='Survived',columns='numeric_ticket', values = 'Ticket', aggfunc='count')"
   ]
  },
  {
   "cell_type": "code",
   "execution_count": 20,
   "metadata": {
    "execution": {
     "iopub.execute_input": "2023-04-07T19:10:43.618729Z",
     "iopub.status.busy": "2023-04-07T19:10:43.617974Z",
     "iopub.status.idle": "2023-04-07T19:10:43.649853Z",
     "shell.execute_reply": "2023-04-07T19:10:43.650355Z",
     "shell.execute_reply.started": "2023-04-07T18:22:26.194113Z"
    },
    "papermill": {
     "duration": 0.0836,
     "end_time": "2023-04-07T19:10:43.650497",
     "exception": false,
     "start_time": "2023-04-07T19:10:43.566897",
     "status": "completed"
    },
    "tags": []
   },
   "outputs": [
    {
     "data": {
      "text/html": [
       "<div>\n",
       "<style scoped>\n",
       "    .dataframe tbody tr th:only-of-type {\n",
       "        vertical-align: middle;\n",
       "    }\n",
       "\n",
       "    .dataframe tbody tr th {\n",
       "        vertical-align: top;\n",
       "    }\n",
       "\n",
       "    .dataframe thead th {\n",
       "        text-align: right;\n",
       "    }\n",
       "</style>\n",
       "<table border=\"1\" class=\"dataframe\">\n",
       "  <thead>\n",
       "    <tr style=\"text-align: right;\">\n",
       "      <th>ticket_letters</th>\n",
       "      <th>0</th>\n",
       "      <th>a4</th>\n",
       "      <th>a5</th>\n",
       "      <th>as</th>\n",
       "      <th>c</th>\n",
       "      <th>ca</th>\n",
       "      <th>casoton</th>\n",
       "      <th>fa</th>\n",
       "      <th>fc</th>\n",
       "      <th>fcc</th>\n",
       "      <th>...</th>\n",
       "      <th>soc</th>\n",
       "      <th>sop</th>\n",
       "      <th>sopp</th>\n",
       "      <th>sotono2</th>\n",
       "      <th>sotonoq</th>\n",
       "      <th>sp</th>\n",
       "      <th>stono2</th>\n",
       "      <th>swpp</th>\n",
       "      <th>wc</th>\n",
       "      <th>wep</th>\n",
       "    </tr>\n",
       "    <tr>\n",
       "      <th>Survived</th>\n",
       "      <th></th>\n",
       "      <th></th>\n",
       "      <th></th>\n",
       "      <th></th>\n",
       "      <th></th>\n",
       "      <th></th>\n",
       "      <th></th>\n",
       "      <th></th>\n",
       "      <th></th>\n",
       "      <th></th>\n",
       "      <th></th>\n",
       "      <th></th>\n",
       "      <th></th>\n",
       "      <th></th>\n",
       "      <th></th>\n",
       "      <th></th>\n",
       "      <th></th>\n",
       "      <th></th>\n",
       "      <th></th>\n",
       "      <th></th>\n",
       "      <th></th>\n",
       "    </tr>\n",
       "  </thead>\n",
       "  <tbody>\n",
       "    <tr>\n",
       "      <th>0</th>\n",
       "      <td>410.0</td>\n",
       "      <td>7.0</td>\n",
       "      <td>19.0</td>\n",
       "      <td>1.0</td>\n",
       "      <td>3.0</td>\n",
       "      <td>27.0</td>\n",
       "      <td>1.0</td>\n",
       "      <td>1.0</td>\n",
       "      <td>1.0</td>\n",
       "      <td>1.0</td>\n",
       "      <td>...</td>\n",
       "      <td>5.0</td>\n",
       "      <td>1.0</td>\n",
       "      <td>3.0</td>\n",
       "      <td>2.0</td>\n",
       "      <td>13.0</td>\n",
       "      <td>1.0</td>\n",
       "      <td>10.0</td>\n",
       "      <td>NaN</td>\n",
       "      <td>9.0</td>\n",
       "      <td>2.0</td>\n",
       "    </tr>\n",
       "    <tr>\n",
       "      <th>1</th>\n",
       "      <td>255.0</td>\n",
       "      <td>NaN</td>\n",
       "      <td>2.0</td>\n",
       "      <td>NaN</td>\n",
       "      <td>2.0</td>\n",
       "      <td>14.0</td>\n",
       "      <td>NaN</td>\n",
       "      <td>NaN</td>\n",
       "      <td>NaN</td>\n",
       "      <td>4.0</td>\n",
       "      <td>...</td>\n",
       "      <td>1.0</td>\n",
       "      <td>NaN</td>\n",
       "      <td>NaN</td>\n",
       "      <td>NaN</td>\n",
       "      <td>2.0</td>\n",
       "      <td>NaN</td>\n",
       "      <td>8.0</td>\n",
       "      <td>2.0</td>\n",
       "      <td>1.0</td>\n",
       "      <td>1.0</td>\n",
       "    </tr>\n",
       "  </tbody>\n",
       "</table>\n",
       "<p>2 rows × 29 columns</p>\n",
       "</div>"
      ],
      "text/plain": [
       "ticket_letters      0   a4    a5   as    c    ca  casoton   fa   fc  fcc  ...  \\\n",
       "Survived                                                                  ...   \n",
       "0               410.0  7.0  19.0  1.0  3.0  27.0      1.0  1.0  1.0  1.0  ...   \n",
       "1               255.0  NaN   2.0  NaN  2.0  14.0      NaN  NaN  NaN  4.0  ...   \n",
       "\n",
       "ticket_letters  soc  sop  sopp  sotono2  sotonoq   sp  stono2  swpp   wc  wep  \n",
       "Survived                                                                       \n",
       "0               5.0  1.0   3.0      2.0     13.0  1.0    10.0   NaN  9.0  2.0  \n",
       "1               1.0  NaN   NaN      NaN      2.0  NaN     8.0   2.0  1.0  1.0  \n",
       "\n",
       "[2 rows x 29 columns]"
      ]
     },
     "execution_count": 20,
     "metadata": {},
     "output_type": "execute_result"
    }
   ],
   "source": [
    "#survival rate across different tyicket types \n",
    "pd.pivot_table(train_data,index='Survived',columns='ticket_letters', values = 'Ticket', aggfunc='count')"
   ]
  },
  {
   "cell_type": "code",
   "execution_count": 21,
   "metadata": {
    "execution": {
     "iopub.execute_input": "2023-04-07T19:10:43.751516Z",
     "iopub.status.busy": "2023-04-07T19:10:43.750944Z",
     "iopub.status.idle": "2023-04-07T19:10:43.757591Z",
     "shell.execute_reply": "2023-04-07T19:10:43.757982Z",
     "shell.execute_reply.started": "2023-04-07T18:22:26.235523Z"
    },
    "papermill": {
     "duration": 0.058485,
     "end_time": "2023-04-07T19:10:43.758107",
     "exception": false,
     "start_time": "2023-04-07T19:10:43.699622",
     "status": "completed"
    },
    "tags": []
   },
   "outputs": [],
   "source": [
    "#feature engineering on person's title \n",
    "train_data.Name.head(50)\n",
    "train_data['name_title'] = train_data.Name.apply(lambda x: x.split(',')[1].split('.')[0].strip())\n",
    "#mr., ms., master. etc"
   ]
  },
  {
   "cell_type": "code",
   "execution_count": 22,
   "metadata": {
    "execution": {
     "iopub.execute_input": "2023-04-07T19:10:43.865155Z",
     "iopub.status.busy": "2023-04-07T19:10:43.864290Z",
     "iopub.status.idle": "2023-04-07T19:10:43.868247Z",
     "shell.execute_reply": "2023-04-07T19:10:43.867778Z",
     "shell.execute_reply.started": "2023-04-07T18:22:26.245292Z"
    },
    "papermill": {
     "duration": 0.06012,
     "end_time": "2023-04-07T19:10:43.868346",
     "exception": false,
     "start_time": "2023-04-07T19:10:43.808226",
     "status": "completed"
    },
    "tags": []
   },
   "outputs": [
    {
     "data": {
      "text/plain": [
       "Mr              517\n",
       "Miss            182\n",
       "Mrs             125\n",
       "Master           40\n",
       "Dr                7\n",
       "Rev               6\n",
       "Col               2\n",
       "Mlle              2\n",
       "Major             2\n",
       "Mme               1\n",
       "Ms                1\n",
       "the Countess      1\n",
       "Sir               1\n",
       "Jonkheer          1\n",
       "Capt              1\n",
       "Don               1\n",
       "Lady              1\n",
       "Name: name_title, dtype: int64"
      ]
     },
     "execution_count": 22,
     "metadata": {},
     "output_type": "execute_result"
    }
   ],
   "source": [
    "train_data['name_title'].value_counts()"
   ]
  },
  {
   "cell_type": "markdown",
   "metadata": {
    "papermill": {
     "duration": 0.048941,
     "end_time": "2023-04-07T19:10:43.966650",
     "exception": false,
     "start_time": "2023-04-07T19:10:43.917709",
     "status": "completed"
    },
    "tags": []
   },
   "source": [
    "## Data Preprocessing for Model \n",
    "### 1) Drop null values from Embarked (only 2) \n",
    "\n",
    "### 2) Include only relevant variables (Since we have limited data, I wanted to exclude things like name and passanger ID so that we could have a reasonable number of features for our models to deal with) \n",
    "Variables:  'Pclass', 'Sex','Age', 'SibSp', 'Parch', 'Fare', 'Embarked', 'cabin_adv', 'cabin_multiple', 'numeric_ticket', 'name_title'\n",
    "\n",
    "### 3) Do categorical transforms on all data. Usually we would use a transformer, but with this approach we can ensure that our traning and test data have the same colums. We also may be able to infer something about the shape of the test data through this method. I will stress, this is generally not recommend outside of a competition (use onehot encoder). \n",
    "\n",
    "### 4) Impute data with mean for fare and age (Should also experiment with median) \n",
    "\n",
    "### 5) Normalized fare using logarithm to give more semblance of a normal distribution \n",
    "\n",
    "### 6) Scaled data 0-1 with standard scaler \n"
   ]
  },
  {
   "cell_type": "code",
   "execution_count": 23,
   "metadata": {
    "execution": {
     "iopub.execute_input": "2023-04-07T19:10:44.070507Z",
     "iopub.status.busy": "2023-04-07T19:10:44.069846Z",
     "iopub.status.idle": "2023-04-07T19:10:44.269009Z",
     "shell.execute_reply": "2023-04-07T19:10:44.268357Z",
     "shell.execute_reply.started": "2023-04-07T18:22:26.261132Z"
    },
    "papermill": {
     "duration": 0.251878,
     "end_time": "2023-04-07T19:10:44.269138",
     "exception": false,
     "start_time": "2023-04-07T19:10:44.017260",
     "status": "completed"
    },
    "tags": []
   },
   "outputs": [
    {
     "data": {
      "text/plain": [
       "(889,)"
      ]
     },
     "execution_count": 23,
     "metadata": {},
     "output_type": "execute_result"
    },
    {
     "data": {
      "image/png": "[encoded data removed]",
      "text/plain": [
       "<Figure size 432x288 with 1 Axes>"
      ]
     },
     "metadata": {
      "needs_background": "light"
     },
     "output_type": "display_data"
    }
   ],
   "source": [
    "#create all categorical variables that we did above for both training and test sets \n",
    "all_data['cabin_multiple'] = all_data.Cabin.apply(lambda x: 0 if pd.isna(x) else len(x.split(' ')))\n",
    "all_data['cabin_adv'] = all_data.Cabin.apply(lambda x: str(x)[0])\n",
    "all_data['numeric_ticket'] = all_data.Ticket.apply(lambda x: 1 if x.isnumeric() else 0)\n",
    "all_data['ticket_letters'] = all_data.Ticket.apply(lambda x: ''.join(x.split(' ')[:-1]).replace('.','').replace('/','').lower() if len(x.split(' ')[:-1]) >0 else 0)\n",
    "all_data['name_title'] = all_data.Name.apply(lambda x: x.split(',')[1].split('.')[0].strip())\n",
    "\n",
    "#impute nulls for continuous data \n",
    "#all_data.Age = all_data.Age.fillna(training.Age.mean())\n",
    "all_data.Age = all_data.Age.fillna(train_data.Age.median())\n",
    "#all_data.Fare = all_data.Fare.fillna(training.Fare.mean())\n",
    "all_data.Fare = all_data.Fare.fillna(train_data.Fare.median())\n",
    "\n",
    "#drop null 'embarked' rows. Only 2 instances of this in training and 0 in test \n",
    "all_data.dropna(subset=['Embarked'],inplace = True)\n",
    "\n",
    "#tried log norm of sibsp (not used)\n",
    "all_data['norm_sibsp'] = np.log(all_data.SibSp+1)\n",
    "all_data['norm_sibsp'].hist()\n",
    "\n",
    "# log norm of fare (used)\n",
    "all_data['norm_fare'] = np.log(all_data.Fare+1)\n",
    "all_data['norm_fare'].hist()\n",
    "\n",
    "# converted fare to category for pd.get_dummies()\n",
    "all_data.Pclass = all_data.Pclass.astype(str)\n",
    "\n",
    "#created dummy variables from categories (also can use OneHotEncoder)\n",
    "all_dummies = pd.get_dummies(all_data[['Pclass','Sex','Age','SibSp','Parch','norm_fare','Embarked','cabin_adv','cabin_multiple','numeric_ticket','name_title','train_test']])\n",
    "\n",
    "#Split to train test again\n",
    "X_train = all_dummies[all_dummies.train_test == 1].drop(['train_test'], axis =1)\n",
    "X_test = all_dummies[all_dummies.train_test == 0].drop(['train_test'], axis =1)\n",
    "\n",
    "\n",
    "y_train = all_data[all_data.train_test==1].Survived\n",
    "y_train.shape"
   ]
  },
  {
   "cell_type": "code",
   "execution_count": 24,
   "metadata": {
    "execution": {
     "iopub.execute_input": "2023-04-07T19:10:44.372791Z",
     "iopub.status.busy": "2023-04-07T19:10:44.372181Z",
     "iopub.status.idle": "2023-04-07T19:10:44.455179Z",
     "shell.execute_reply": "2023-04-07T19:10:44.455663Z",
     "shell.execute_reply.started": "2023-04-07T18:22:26.519470Z"
    },
    "papermill": {
     "duration": 0.13616,
     "end_time": "2023-04-07T19:10:44.455811",
     "exception": false,
     "start_time": "2023-04-07T19:10:44.319651",
     "status": "completed"
    },
    "tags": []
   },
   "outputs": [],
   "source": [
    "# Scale data \n",
    "from sklearn.preprocessing import StandardScaler\n",
    "scale = StandardScaler()\n",
    "all_dummies_scaled = all_dummies.copy()\n",
    "all_dummies_scaled[['Age','SibSp','Parch','norm_fare']]= scale.fit_transform(all_dummies_scaled[['Age','SibSp','Parch','norm_fare']])\n",
    "all_dummies_scaled\n",
    "\n",
    "X_train_scaled = all_dummies_scaled[all_dummies_scaled.train_test == 1].drop(['train_test'], axis =1)\n",
    "X_test_scaled = all_dummies_scaled[all_dummies_scaled.train_test == 0].drop(['train_test'], axis =1)\n",
    "\n",
    "y_train = all_data[all_data.train_test==1].Survived\n"
   ]
  },
  {
   "cell_type": "markdown",
   "metadata": {
    "papermill": {
     "duration": 0.051806,
     "end_time": "2023-04-07T19:10:44.558465",
     "exception": false,
     "start_time": "2023-04-07T19:10:44.506659",
     "status": "completed"
    },
    "tags": []
   },
   "source": [
    "## Model Building (Baseline Validation Performance)\n",
    "Before going further, I like to see how various different models perform with default parameters. I tried the following models using 5 fold cross validation to get a baseline. With a validation set basline, we can see how much tuning improves each of the models. Just because a model has a high basline on this validation set doesn't mean that it will actually do better on the eventual test set. \n",
    "\n",
    "- Naive Bayes (72.6%)\n",
    "- Logistic Regression (82.1%)\n",
    "- Decision Tree (77.6%)\n",
    "- K Nearest Neighbor (80.5%)\n",
    "- Random Forest (80.6%)\n",
    "- **Support Vector Classifier (83.2%)**\n",
    "- Xtreme Gradient Boosting (81.8%)\n",
    "- Soft Voting Classifier - All Models (82.8%)"
   ]
  },
  {
   "cell_type": "code",
   "execution_count": 25,
   "metadata": {
    "execution": {
     "iopub.execute_input": "2023-04-07T19:10:44.662116Z",
     "iopub.status.busy": "2023-04-07T19:10:44.661518Z",
     "iopub.status.idle": "2023-04-07T19:10:44.912955Z",
     "shell.execute_reply": "2023-04-07T19:10:44.912288Z",
     "shell.execute_reply.started": "2023-04-07T18:22:26.608680Z"
    },
    "papermill": {
     "duration": 0.304542,
     "end_time": "2023-04-07T19:10:44.913069",
     "exception": false,
     "start_time": "2023-04-07T19:10:44.608527",
     "status": "completed"
    },
    "tags": []
   },
   "outputs": [],
   "source": [
    "from sklearn.model_selection import cross_val_score\n",
    "from sklearn.naive_bayes import GaussianNB\n",
    "from sklearn.linear_model import LogisticRegression\n",
    "from sklearn import tree\n",
    "from sklearn.neighbors import KNeighborsClassifier\n",
    "from sklearn.ensemble import RandomForestClassifier\n",
    "from sklearn.svm import SVC"
   ]
  },
  {
   "cell_type": "code",
   "execution_count": 26,
   "metadata": {
    "execution": {
     "iopub.execute_input": "2023-04-07T19:10:45.020712Z",
     "iopub.status.busy": "2023-04-07T19:10:45.019919Z",
     "iopub.status.idle": "2023-04-07T19:10:45.057282Z",
     "shell.execute_reply": "2023-04-07T19:10:45.056745Z",
     "shell.execute_reply.started": "2023-04-07T18:22:27.177154Z"
    },
    "papermill": {
     "duration": 0.093443,
     "end_time": "2023-04-07T19:10:45.057385",
     "exception": false,
     "start_time": "2023-04-07T19:10:44.963942",
     "status": "completed"
    },
    "tags": []
   },
   "outputs": [
    {
     "name": "stdout",
     "output_type": "stream",
     "text": [
      "[0.66853933 0.70224719 0.75842697 0.74719101 0.73446328]\n",
      "0.7221735542436362\n"
     ]
    }
   ],
   "source": [
    "#I usually use Naive Bayes as a baseline for my classification tasks \n",
    "gnb = GaussianNB()\n",
    "cv = cross_val_score(gnb,X_train_scaled,y_train,cv=5)\n",
    "print(cv)\n",
    "print(cv.mean())"
   ]
  },
  {
   "cell_type": "code",
   "execution_count": 27,
   "metadata": {
    "execution": {
     "iopub.execute_input": "2023-04-07T19:10:45.164126Z",
     "iopub.status.busy": "2023-04-07T19:10:45.163598Z",
     "iopub.status.idle": "2023-04-07T19:10:45.557647Z",
     "shell.execute_reply": "2023-04-07T19:10:45.557055Z",
     "shell.execute_reply.started": "2023-04-07T18:22:27.227687Z"
    },
    "papermill": {
     "duration": 0.449995,
     "end_time": "2023-04-07T19:10:45.557753",
     "exception": false,
     "start_time": "2023-04-07T19:10:45.107758",
     "status": "completed"
    },
    "tags": []
   },
   "outputs": [
    {
     "name": "stdout",
     "output_type": "stream",
     "text": [
      "[0.8258427  0.80898876 0.80337079 0.82022472 0.85310734]\n",
      "0.8223068621849807\n"
     ]
    }
   ],
   "source": [
    "lr = LogisticRegression(max_iter = 2000)\n",
    "cv = cross_val_score(lr,X_train,y_train,cv=5)\n",
    "print(cv)\n",
    "print(cv.mean())"
   ]
  },
  {
   "cell_type": "code",
   "execution_count": 28,
   "metadata": {
    "execution": {
     "iopub.execute_input": "2023-04-07T19:10:45.666893Z",
     "iopub.status.busy": "2023-04-07T19:10:45.666305Z",
     "iopub.status.idle": "2023-04-07T19:10:45.773568Z",
     "shell.execute_reply": "2023-04-07T19:10:45.772933Z",
     "shell.execute_reply.started": "2023-04-07T18:22:27.791381Z"
    },
    "papermill": {
     "duration": 0.163884,
     "end_time": "2023-04-07T19:10:45.773680",
     "exception": false,
     "start_time": "2023-04-07T19:10:45.609796",
     "status": "completed"
    },
    "tags": []
   },
   "outputs": [
    {
     "name": "stdout",
     "output_type": "stream",
     "text": [
      "[0.8258427  0.80898876 0.80337079 0.82022472 0.85310734]\n",
      "0.8223068621849807\n"
     ]
    }
   ],
   "source": [
    "lr = LogisticRegression(max_iter = 2000)\n",
    "cv = cross_val_score(lr,X_train_scaled,y_train,cv=5)\n",
    "print(cv)\n",
    "print(cv.mean())"
   ]
  },
  {
   "cell_type": "code",
   "execution_count": 29,
   "metadata": {
    "execution": {
     "iopub.execute_input": "2023-04-07T19:10:45.879599Z",
     "iopub.status.busy": "2023-04-07T19:10:45.878980Z",
     "iopub.status.idle": "2023-04-07T19:10:45.930290Z",
     "shell.execute_reply": "2023-04-07T19:10:45.929818Z",
     "shell.execute_reply.started": "2023-04-07T18:22:27.937899Z"
    },
    "papermill": {
     "duration": 0.105515,
     "end_time": "2023-04-07T19:10:45.930388",
     "exception": false,
     "start_time": "2023-04-07T19:10:45.824873",
     "status": "completed"
    },
    "tags": []
   },
   "outputs": [
    {
     "name": "stdout",
     "output_type": "stream",
     "text": [
      "[0.75842697 0.74719101 0.8258427  0.74719101 0.8079096 ]\n",
      "0.7773122579826065\n"
     ]
    }
   ],
   "source": [
    "dt = tree.DecisionTreeClassifier(random_state = 1)\n",
    "cv = cross_val_score(dt,X_train,y_train,cv=5)\n",
    "print(cv)\n",
    "print(cv.mean())"
   ]
  },
  {
   "cell_type": "code",
   "execution_count": 30,
   "metadata": {
    "execution": {
     "iopub.execute_input": "2023-04-07T19:10:46.039923Z",
     "iopub.status.busy": "2023-04-07T19:10:46.039117Z",
     "iopub.status.idle": "2023-04-07T19:10:46.084039Z",
     "shell.execute_reply": "2023-04-07T19:10:46.083429Z",
     "shell.execute_reply.started": "2023-04-07T18:22:28.003580Z"
    },
    "papermill": {
     "duration": 0.102425,
     "end_time": "2023-04-07T19:10:46.084156",
     "exception": false,
     "start_time": "2023-04-07T19:10:45.981731",
     "status": "completed"
    },
    "tags": []
   },
   "outputs": [
    {
     "name": "stdout",
     "output_type": "stream",
     "text": [
      "[0.75842697 0.74719101 0.8258427  0.74719101 0.8079096 ]\n",
      "0.7773122579826065\n"
     ]
    }
   ],
   "source": [
    "dt = tree.DecisionTreeClassifier(random_state = 1)\n",
    "cv = cross_val_score(dt,X_train_scaled,y_train,cv=5)\n",
    "print(cv)\n",
    "print(cv.mean())"
   ]
  },
  {
   "cell_type": "code",
   "execution_count": 31,
   "metadata": {
    "execution": {
     "iopub.execute_input": "2023-04-07T19:10:46.233583Z",
     "iopub.status.busy": "2023-04-07T19:10:46.232889Z",
     "iopub.status.idle": "2023-04-07T19:10:46.319884Z",
     "shell.execute_reply": "2023-04-07T19:10:46.320371Z",
     "shell.execute_reply.started": "2023-04-07T18:22:28.068013Z"
    },
    "papermill": {
     "duration": 0.141779,
     "end_time": "2023-04-07T19:10:46.320519",
     "exception": false,
     "start_time": "2023-04-07T19:10:46.178740",
     "status": "completed"
    },
    "tags": []
   },
   "outputs": [
    {
     "name": "stdout",
     "output_type": "stream",
     "text": [
      "[0.76966292 0.79775281 0.80898876 0.82022472 0.85310734]\n",
      "0.8099473116231829\n"
     ]
    }
   ],
   "source": [
    "knn = KNeighborsClassifier()\n",
    "cv = cross_val_score(knn,X_train,y_train,cv=5)\n",
    "print(cv)\n",
    "print(cv.mean())"
   ]
  },
  {
   "cell_type": "code",
   "execution_count": 32,
   "metadata": {
    "execution": {
     "iopub.execute_input": "2023-04-07T19:10:46.433652Z",
     "iopub.status.busy": "2023-04-07T19:10:46.431838Z",
     "iopub.status.idle": "2023-04-07T19:10:46.524648Z",
     "shell.execute_reply": "2023-04-07T19:10:46.524029Z",
     "shell.execute_reply.started": "2023-04-07T18:22:28.174612Z"
    },
    "papermill": {
     "duration": 0.151981,
     "end_time": "2023-04-07T19:10:46.524773",
     "exception": false,
     "start_time": "2023-04-07T19:10:46.372792",
     "status": "completed"
    },
    "tags": []
   },
   "outputs": [
    {
     "name": "stdout",
     "output_type": "stream",
     "text": [
      "[0.79775281 0.79213483 0.83146067 0.79775281 0.85310734]\n",
      "0.8144416936456548\n"
     ]
    }
   ],
   "source": [
    "knn = KNeighborsClassifier()\n",
    "cv = cross_val_score(knn,X_train_scaled,y_train,cv=5)\n",
    "print(cv)\n",
    "print(cv.mean())"
   ]
  },
  {
   "cell_type": "code",
   "execution_count": 33,
   "metadata": {
    "execution": {
     "iopub.execute_input": "2023-04-07T19:10:46.636535Z",
     "iopub.status.busy": "2023-04-07T19:10:46.635702Z",
     "iopub.status.idle": "2023-04-07T19:10:47.543690Z",
     "shell.execute_reply": "2023-04-07T19:10:47.542945Z",
     "shell.execute_reply.started": "2023-04-07T18:22:28.291449Z"
    },
    "papermill": {
     "duration": 0.966615,
     "end_time": "2023-04-07T19:10:47.543788",
     "exception": false,
     "start_time": "2023-04-07T19:10:46.577173",
     "status": "completed"
    },
    "tags": []
   },
   "outputs": [
    {
     "name": "stdout",
     "output_type": "stream",
     "text": [
      "[0.80898876 0.79213483 0.84831461 0.73595506 0.82485876]\n",
      "0.8020504030978227\n"
     ]
    }
   ],
   "source": [
    "rf = RandomForestClassifier(random_state = 1)\n",
    "cv = cross_val_score(rf,X_train,y_train,cv=5)\n",
    "print(cv)\n",
    "print(cv.mean())"
   ]
  },
  {
   "cell_type": "code",
   "execution_count": 34,
   "metadata": {
    "execution": {
     "iopub.execute_input": "2023-04-07T19:10:47.655459Z",
     "iopub.status.busy": "2023-04-07T19:10:47.654655Z",
     "iopub.status.idle": "2023-04-07T19:10:48.570251Z",
     "shell.execute_reply": "2023-04-07T19:10:48.569540Z",
     "shell.execute_reply.started": "2023-04-07T18:22:29.466051Z"
    },
    "papermill": {
     "duration": 0.97389,
     "end_time": "2023-04-07T19:10:48.570377",
     "exception": false,
     "start_time": "2023-04-07T19:10:47.596487",
     "status": "completed"
    },
    "tags": []
   },
   "outputs": [
    {
     "name": "stdout",
     "output_type": "stream",
     "text": [
      "[0.80337079 0.79213483 0.84831461 0.73595506 0.82485876]\n",
      "0.8009268075922046\n"
     ]
    }
   ],
   "source": [
    "rf = RandomForestClassifier(random_state = 1)\n",
    "cv = cross_val_score(rf,X_train_scaled,y_train,cv=5)\n",
    "print(cv)\n",
    "print(cv.mean())"
   ]
  },
  {
   "cell_type": "code",
   "execution_count": 35,
   "metadata": {
    "execution": {
     "iopub.execute_input": "2023-04-07T19:10:48.682494Z",
     "iopub.status.busy": "2023-04-07T19:10:48.681870Z",
     "iopub.status.idle": "2023-04-07T19:10:49.156428Z",
     "shell.execute_reply": "2023-04-07T19:10:49.155892Z",
     "shell.execute_reply.started": "2023-04-07T18:22:30.640653Z"
    },
    "papermill": {
     "duration": 0.53297,
     "end_time": "2023-04-07T19:10:49.156547",
     "exception": false,
     "start_time": "2023-04-07T19:10:48.623577",
     "status": "completed"
    },
    "tags": []
   },
   "outputs": [
    {
     "name": "stdout",
     "output_type": "stream",
     "text": [
      "[0.85393258 0.82022472 0.8258427  0.80337079 0.86440678]\n",
      "0.8335555132355742\n"
     ]
    }
   ],
   "source": [
    "svc = SVC(probability = True)\n",
    "cv = cross_val_score(svc,X_train_scaled,y_train,cv=5)\n",
    "print(cv)\n",
    "print(cv.mean())"
   ]
  },
  {
   "cell_type": "code",
   "execution_count": 36,
   "metadata": {
    "execution": {
     "iopub.execute_input": "2023-04-07T19:10:49.264777Z",
     "iopub.status.busy": "2023-04-07T19:10:49.264282Z",
     "iopub.status.idle": "2023-04-07T19:10:50.364041Z",
     "shell.execute_reply": "2023-04-07T19:10:50.364565Z",
     "shell.execute_reply.started": "2023-04-07T18:22:31.443255Z"
    },
    "papermill": {
     "duration": 1.155588,
     "end_time": "2023-04-07T19:10:50.364709",
     "exception": false,
     "start_time": "2023-04-07T19:10:49.209121",
     "status": "completed"
    },
    "tags": []
   },
   "outputs": [
    {
     "name": "stdout",
     "output_type": "stream",
     "text": [
      "[0.82022472 0.81460674 0.85393258 0.79775281 0.81355932]\n",
      "0.8200152351932963\n"
     ]
    }
   ],
   "source": [
    "from xgboost import XGBClassifier\n",
    "xgb = XGBClassifier(random_state =1)\n",
    "cv = cross_val_score(xgb,X_train_scaled,y_train,cv=5)\n",
    "print(cv)\n",
    "print(cv.mean())"
   ]
  },
  {
   "cell_type": "code",
   "execution_count": 37,
   "metadata": {
    "execution": {
     "iopub.execute_input": "2023-04-07T19:10:50.521511Z",
     "iopub.status.busy": "2023-04-07T19:10:50.520578Z",
     "iopub.status.idle": "2023-04-07T19:10:50.530166Z",
     "shell.execute_reply": "2023-04-07T19:10:50.531164Z",
     "shell.execute_reply.started": "2023-04-07T18:22:32.969220Z"
    },
    "papermill": {
     "duration": 0.102571,
     "end_time": "2023-04-07T19:10:50.531380",
     "exception": false,
     "start_time": "2023-04-07T19:10:50.428809",
     "status": "completed"
    },
    "tags": []
   },
   "outputs": [],
   "source": [
    "#Voting classifier takes all of the inputs and averages the results. For a \"hard\" voting classifier each classifier gets 1 vote \"yes\" or \"no\" and the result is just a popular vote. For this, you generally want odd numbers\n",
    "#A \"soft\" classifier averages the confidence of each of the models. If a the average confidence is > 50% that it is a 1 it will be counted as such\n",
    "from sklearn.ensemble import VotingClassifier\n",
    "voting_clf = VotingClassifier(estimators = [('lr',lr),('knn',knn),('rf',rf),('gnb',gnb),('svc',svc),('xgb',xgb)], voting = 'soft') "
   ]
  },
  {
   "cell_type": "code",
   "execution_count": 38,
   "metadata": {
    "execution": {
     "iopub.execute_input": "2023-04-07T19:10:50.654344Z",
     "iopub.status.busy": "2023-04-07T19:10:50.653575Z",
     "iopub.status.idle": "2023-04-07T19:10:52.752995Z",
     "shell.execute_reply": "2023-04-07T19:10:52.753521Z",
     "shell.execute_reply.started": "2023-04-07T18:22:32.984915Z"
    },
    "papermill": {
     "duration": 2.159183,
     "end_time": "2023-04-07T19:10:52.753656",
     "exception": false,
     "start_time": "2023-04-07T19:10:50.594473",
     "status": "completed"
    },
    "tags": []
   },
   "outputs": [
    {
     "name": "stdout",
     "output_type": "stream",
     "text": [
      "[0.83707865 0.81460674 0.8258427  0.79775281 0.84745763]\n",
      "0.8245477051990097\n"
     ]
    }
   ],
   "source": [
    "cv = cross_val_score(voting_clf,X_train_scaled,y_train,cv=5)\n",
    "print(cv)\n",
    "print(cv.mean())"
   ]
  },
  {
   "cell_type": "code",
   "execution_count": 39,
   "metadata": {
    "execution": {
     "iopub.execute_input": "2023-04-07T19:10:52.898656Z",
     "iopub.status.busy": "2023-04-07T19:10:52.897787Z",
     "iopub.status.idle": "2023-04-07T19:10:53.405141Z",
     "shell.execute_reply": "2023-04-07T19:10:53.405722Z",
     "shell.execute_reply.started": "2023-04-07T18:22:35.953464Z"
    },
    "papermill": {
     "duration": 0.585606,
     "end_time": "2023-04-07T19:10:53.405885",
     "exception": false,
     "start_time": "2023-04-07T19:10:52.820279",
     "status": "completed"
    },
    "tags": []
   },
   "outputs": [],
   "source": [
    "voting_clf.fit(X_train_scaled,y_train)\n",
    "y_hat_base_vc = voting_clf.predict(X_test_scaled).astype(int)\n",
    "basic_submission = {'PassengerId': test_data.PassengerId, 'Survived': y_hat_base_vc}\n",
    "base_submission = pd.DataFrame(data=basic_submission)\n",
    "base_submission.to_csv('base_submission.csv', index=False)"
   ]
  },
  {
   "cell_type": "markdown",
   "metadata": {
    "papermill": {
     "duration": 0.064594,
     "end_time": "2023-04-07T19:10:53.535446",
     "exception": false,
     "start_time": "2023-04-07T19:10:53.470852",
     "status": "completed"
    },
    "tags": []
   },
   "source": [
    "## Model Tuned Performance \n",
    "After getting the baselines, let's see if we can improve on the indivdual model results!I mainly used grid search to tune the models. I also used Randomized Search for the Random Forest and XG boosted model to simplify testing time. \n",
    "\n",
    "|Model|Baseline|Tuned Performance|\n",
    "|-----|--------|-----------------|\n",
    "|Naive Bayes| 72.6%| NA|\n",
    "|Logistic Regression| 82.1%| 82.6%|\n",
    "|Decision Tree| 77.6%| NA|\n",
    "|K Nearest Neighbor| 80.5%|83.0%|\n",
    "|Random Forest| 80.6%| 83.6|\n",
    "|Support Vector Classifier| 83.2%| 83.2%|\n",
    "|Xtreme Gradient Boosting| 81.8%| 85.3%|\n"
   ]
  },
  {
   "cell_type": "code",
   "execution_count": 40,
   "metadata": {
    "execution": {
     "iopub.execute_input": "2023-04-07T19:10:53.659135Z",
     "iopub.status.busy": "2023-04-07T19:10:53.658282Z",
     "iopub.status.idle": "2023-04-07T19:10:53.661351Z",
     "shell.execute_reply": "2023-04-07T19:10:53.660807Z",
     "shell.execute_reply.started": "2023-04-07T18:22:36.706370Z"
    },
    "papermill": {
     "duration": 0.063271,
     "end_time": "2023-04-07T19:10:53.661459",
     "exception": false,
     "start_time": "2023-04-07T19:10:53.598188",
     "status": "completed"
    },
    "tags": []
   },
   "outputs": [],
   "source": [
    "from sklearn.model_selection import GridSearchCV \n",
    "from sklearn.model_selection import RandomizedSearchCV "
   ]
  },
  {
   "cell_type": "code",
   "execution_count": 41,
   "metadata": {
    "execution": {
     "iopub.execute_input": "2023-04-07T19:10:53.776291Z",
     "iopub.status.busy": "2023-04-07T19:10:53.775442Z",
     "iopub.status.idle": "2023-04-07T19:10:53.778254Z",
     "shell.execute_reply": "2023-04-07T19:10:53.777686Z",
     "shell.execute_reply.started": "2023-04-07T18:22:36.714236Z"
    },
    "papermill": {
     "duration": 0.06259,
     "end_time": "2023-04-07T19:10:53.778360",
     "exception": false,
     "start_time": "2023-04-07T19:10:53.715770",
     "status": "completed"
    },
    "tags": []
   },
   "outputs": [],
   "source": [
    "#simple performance reporting function\n",
    "def clf_performance(classifier, model_name):\n",
    "    print(model_name)\n",
    "    print('Best Score: ' + str(classifier.best_score_))\n",
    "    print('Best Parameters: ' + str(classifier.best_params_))"
   ]
  },
  {
   "cell_type": "code",
   "execution_count": 42,
   "metadata": {
    "execution": {
     "iopub.execute_input": "2023-04-07T19:10:53.895460Z",
     "iopub.status.busy": "2023-04-07T19:10:53.894748Z",
     "iopub.status.idle": "2023-04-07T19:10:57.330025Z",
     "shell.execute_reply": "2023-04-07T19:10:57.329466Z",
     "shell.execute_reply.started": "2023-04-07T18:22:36.728053Z"
    },
    "papermill": {
     "duration": 3.496341,
     "end_time": "2023-04-07T19:10:57.330129",
     "exception": false,
     "start_time": "2023-04-07T19:10:53.833788",
     "status": "completed"
    },
    "tags": []
   },
   "outputs": [
    {
     "name": "stdout",
     "output_type": "stream",
     "text": [
      "Fitting 5 folds for each of 40 candidates, totalling 200 fits\n"
     ]
    },
    {
     "name": "stderr",
     "output_type": "stream",
     "text": [
      "[Parallel(n_jobs=-1)]: Using backend LokyBackend with 4 concurrent workers.\n",
      "[Parallel(n_jobs=-1)]: Done  68 tasks      | elapsed:    1.3s\n"
     ]
    },
    {
     "name": "stdout",
     "output_type": "stream",
     "text": [
      "Logistic Regression\n",
      "Best Score: 0.8279375357074843\n",
      "Best Parameters: {'C': 1.623776739188721, 'max_iter': 2000, 'penalty': 'l1', 'solver': 'liblinear'}\n"
     ]
    },
    {
     "name": "stderr",
     "output_type": "stream",
     "text": [
      "[Parallel(n_jobs=-1)]: Done 200 out of 200 | elapsed:    3.4s finished\n"
     ]
    }
   ],
   "source": [
    "lr = LogisticRegression()\n",
    "param_grid = {'max_iter' : [2000],\n",
    "              'penalty' : ['l1', 'l2'],\n",
    "              'C' : np.logspace(-4, 4, 20),\n",
    "              'solver' : ['liblinear']}\n",
    "\n",
    "clf_lr = GridSearchCV(lr, param_grid = param_grid, cv = 5, verbose = True, n_jobs = -1)\n",
    "best_clf_lr = clf_lr.fit(X_train_scaled,y_train)\n",
    "clf_performance(best_clf_lr,'Logistic Regression')"
   ]
  },
  {
   "cell_type": "code",
   "execution_count": 43,
   "metadata": {
    "execution": {
     "iopub.execute_input": "2023-04-07T19:10:57.443848Z",
     "iopub.status.busy": "2023-04-07T19:10:57.443290Z",
     "iopub.status.idle": "2023-04-07T19:10:58.919153Z",
     "shell.execute_reply": "2023-04-07T19:10:58.919775Z",
     "shell.execute_reply.started": "2023-04-07T18:22:40.942925Z"
    },
    "papermill": {
     "duration": 1.53459,
     "end_time": "2023-04-07T19:10:58.919918",
     "exception": false,
     "start_time": "2023-04-07T19:10:57.385328",
     "status": "completed"
    },
    "tags": []
   },
   "outputs": [
    {
     "name": "stderr",
     "output_type": "stream",
     "text": [
      "[Parallel(n_jobs=-1)]: Using backend LokyBackend with 4 concurrent workers.\n"
     ]
    },
    {
     "name": "stdout",
     "output_type": "stream",
     "text": [
      "Fitting 5 folds for each of 48 candidates, totalling 240 fits\n",
      "KNN\n",
      "Best Score: 0.8279375357074843\n",
      "Best Parameters: {'algorithm': 'auto', 'n_neighbors': 7, 'p': 2, 'weights': 'uniform'}\n"
     ]
    },
    {
     "name": "stderr",
     "output_type": "stream",
     "text": [
      "[Parallel(n_jobs=-1)]: Done 200 tasks      | elapsed:    1.3s\n",
      "[Parallel(n_jobs=-1)]: Done 240 out of 240 | elapsed:    1.5s finished\n"
     ]
    }
   ],
   "source": [
    "knn = KNeighborsClassifier()\n",
    "param_grid = {'n_neighbors' : [3,5,7,9],\n",
    "              'weights' : ['uniform', 'distance'],\n",
    "              'algorithm' : ['auto', 'ball_tree','kd_tree'],\n",
    "              'p' : [1,2]}\n",
    "clf_knn = GridSearchCV(knn, param_grid = param_grid, cv = 5, verbose = True, n_jobs = -1)\n",
    "best_clf_knn = clf_knn.fit(X_train_scaled,y_train)\n",
    "clf_performance(best_clf_knn,'KNN')"
   ]
  },
  {
   "cell_type": "code",
   "execution_count": 44,
   "metadata": {
    "execution": {
     "iopub.execute_input": "2023-04-07T19:10:59.039589Z",
     "iopub.status.busy": "2023-04-07T19:10:59.038677Z",
     "iopub.status.idle": "2023-04-07T19:13:09.686793Z",
     "shell.execute_reply": "2023-04-07T19:13:09.686327Z",
     "shell.execute_reply.started": "2023-04-07T18:29:34.441547Z"
    },
    "papermill": {
     "duration": 130.711009,
     "end_time": "2023-04-07T19:13:09.686898",
     "exception": false,
     "start_time": "2023-04-07T19:10:58.975889",
     "status": "completed"
    },
    "tags": []
   },
   "outputs": [
    {
     "name": "stdout",
     "output_type": "stream",
     "text": [
      "Fitting 5 folds for each of 55 candidates, totalling 275 fits\n"
     ]
    },
    {
     "name": "stderr",
     "output_type": "stream",
     "text": [
      "[Parallel(n_jobs=-1)]: Using backend LokyBackend with 4 concurrent workers.\n",
      "[Parallel(n_jobs=-1)]: Done  76 tasks      | elapsed:    4.2s\n",
      "[Parallel(n_jobs=-1)]: Done 264 tasks      | elapsed:  1.4min\n"
     ]
    },
    {
     "name": "stdout",
     "output_type": "stream",
     "text": [
      "SVC\n",
      "Best Score: 0.8335555132355742\n",
      "Best Parameters: {'C': 1, 'gamma': 0.1, 'kernel': 'rbf'}\n"
     ]
    },
    {
     "name": "stderr",
     "output_type": "stream",
     "text": [
      "[Parallel(n_jobs=-1)]: Done 275 out of 275 | elapsed:  2.2min finished\n"
     ]
    }
   ],
   "source": [
    "svc = SVC(probability = True)\n",
    "param_grid = tuned_parameters = [{'kernel': ['rbf'], 'gamma': [.1,.5,1,2,5,10],\n",
    "                                  'C': [.1, 1, 10, 100, 1000]},\n",
    "                                 {'kernel': ['linear'], 'C': [.1, 1, 10, 100, 1000]},\n",
    "                                 {'kernel': ['poly'], 'degree' : [2,3,4,5], 'C': [.1, 1, 10, 100, 1000]}]\n",
    "clf_svc = GridSearchCV(svc, param_grid = param_grid, cv = 5, verbose = True, n_jobs = -1)\n",
    "best_clf_svc = clf_svc.fit(X_train_scaled,y_train)\n",
    "clf_performance(best_clf_svc,'SVC')"
   ]
  },
  {
   "cell_type": "code",
   "execution_count": 45,
   "metadata": {
    "execution": {
     "iopub.execute_input": "2023-04-07T19:13:09.809175Z",
     "iopub.status.busy": "2023-04-07T19:13:09.808342Z",
     "iopub.status.idle": "2023-04-07T19:13:09.813707Z",
     "shell.execute_reply": "2023-04-07T19:13:09.813100Z",
     "shell.execute_reply.started": "2023-04-07T18:36:42.229853Z"
    },
    "papermill": {
     "duration": 0.06902,
     "end_time": "2023-04-07T19:13:09.813831",
     "exception": false,
     "start_time": "2023-04-07T19:13:09.744811",
     "status": "completed"
    },
    "tags": []
   },
   "outputs": [
    {
     "data": {
      "text/plain": [
       "\"\\nrf = RandomForestClassifier(random_state = 1)\\nparam_grid =  {'n_estimators': [100,500,1000], \\n                                  'bootstrap': [True,False],\\n                                  'max_depth': [3,5,10,20,50,75,100,None],\\n                                  'max_features': ['auto','sqrt'],\\n                                  'min_samples_leaf': [1,2,4,10],\\n                                  'min_samples_split': [2,5,10]}\\n                                  \\nclf_rf_rnd = RandomizedSearchCV(rf, param_distributions = param_grid, n_iter = 100, cv = 5, verbose = True, n_jobs = -1)\\nbest_clf_rf_rnd = clf_rf_rnd.fit(X_train_scaled,y_train)\\nclf_performance(best_clf_rf_rnd,'Random Forest')\""
      ]
     },
     "execution_count": 45,
     "metadata": {},
     "output_type": "execute_result"
    }
   ],
   "source": [
    "#Because the total feature space is so large, I used a randomized search to narrow down the paramters for the model. I took the best model from this and did a more granular search \n",
    "\"\"\"\n",
    "rf = RandomForestClassifier(random_state = 1)\n",
    "param_grid =  {'n_estimators': [100,500,1000], \n",
    "                                  'bootstrap': [True,False],\n",
    "                                  'max_depth': [3,5,10,20,50,75,100,None],\n",
    "                                  'max_features': ['auto','sqrt'],\n",
    "                                  'min_samples_leaf': [1,2,4,10],\n",
    "                                  'min_samples_split': [2,5,10]}\n",
    "                                  \n",
    "clf_rf_rnd = RandomizedSearchCV(rf, param_distributions = param_grid, n_iter = 100, cv = 5, verbose = True, n_jobs = -1)\n",
    "best_clf_rf_rnd = clf_rf_rnd.fit(X_train_scaled,y_train)\n",
    "clf_performance(best_clf_rf_rnd,'Random Forest')\"\"\""
   ]
  },
  {
   "cell_type": "code",
   "execution_count": 46,
   "metadata": {
    "execution": {
     "iopub.execute_input": "2023-04-07T19:13:09.938078Z",
     "iopub.status.busy": "2023-04-07T19:13:09.937376Z",
     "iopub.status.idle": "2023-04-07T19:20:26.761065Z",
     "shell.execute_reply": "2023-04-07T19:20:26.760479Z",
     "shell.execute_reply.started": "2023-04-07T18:36:50.228138Z"
    },
    "papermill": {
     "duration": 436.888538,
     "end_time": "2023-04-07T19:20:26.761177",
     "exception": false,
     "start_time": "2023-04-07T19:13:09.872639",
     "status": "completed"
    },
    "tags": []
   },
   "outputs": [
    {
     "name": "stdout",
     "output_type": "stream",
     "text": [
      "Fitting 5 folds for each of 288 candidates, totalling 1440 fits\n"
     ]
    },
    {
     "name": "stderr",
     "output_type": "stream",
     "text": [
      "[Parallel(n_jobs=-1)]: Using backend LokyBackend with 4 concurrent workers.\n",
      "[Parallel(n_jobs=-1)]: Done  42 tasks      | elapsed:   12.5s\n",
      "[Parallel(n_jobs=-1)]: Done 192 tasks      | elapsed:   56.3s\n",
      "[Parallel(n_jobs=-1)]: Done 442 tasks      | elapsed:  2.2min\n",
      "[Parallel(n_jobs=-1)]: Done 792 tasks      | elapsed:  3.9min\n",
      "[Parallel(n_jobs=-1)]: Done 1242 tasks      | elapsed:  6.2min\n",
      "[Parallel(n_jobs=-1)]: Done 1440 out of 1440 | elapsed:  7.3min finished\n"
     ]
    },
    {
     "name": "stdout",
     "output_type": "stream",
     "text": [
      "Random Forest\n",
      "Best Score: 0.8358027042468101\n",
      "Best Parameters: {'bootstrap': True, 'criterion': 'gini', 'max_depth': 15, 'max_features': 10, 'min_samples_leaf': 3, 'min_samples_split': 2, 'n_estimators': 550}\n"
     ]
    }
   ],
   "source": [
    "rf = RandomForestClassifier(random_state = 1)\n",
    "param_grid =  {'n_estimators': [400,450,500,550],\n",
    "               'criterion':['gini','entropy'],\n",
    "                                  'bootstrap': [True],\n",
    "                                  'max_depth': [15, 20, 25],\n",
    "                                  'max_features': ['auto','sqrt', 10],\n",
    "                                  'min_samples_leaf': [2,3],\n",
    "                                  'min_samples_split': [2,3]}\n",
    "                                  \n",
    "clf_rf = GridSearchCV(rf, param_grid = param_grid, cv = 5, verbose = True, n_jobs = -1)\n",
    "best_clf_rf = clf_rf.fit(X_train_scaled,y_train)\n",
    "clf_performance(best_clf_rf,'Random Forest')"
   ]
  },
  {
   "cell_type": "code",
   "execution_count": 47,
   "metadata": {
    "execution": {
     "iopub.execute_input": "2023-04-07T19:20:26.891067Z",
     "iopub.status.busy": "2023-04-07T19:20:26.890408Z",
     "iopub.status.idle": "2023-04-07T19:20:28.046293Z",
     "shell.execute_reply": "2023-04-07T19:20:28.045754Z",
     "shell.execute_reply.started": "2023-04-07T18:55:55.516357Z"
    },
    "papermill": {
     "duration": 1.223249,
     "end_time": "2023-04-07T19:20:28.046405",
     "exception": false,
     "start_time": "2023-04-07T19:20:26.823156",
     "status": "completed"
    },
    "tags": []
   },
   "outputs": [
    {
     "data": {
      "text/plain": [
       "<matplotlib.axes._subplots.AxesSubplot at 0x743514d67150>"
      ]
     },
     "execution_count": 47,
     "metadata": {},
     "output_type": "execute_result"
    },
    {
     "data": {
      "image/png": "[encoded data removed]",
      "text/plain": [
       "<Figure size 432x288 with 1 Axes>"
      ]
     },
     "metadata": {
      "needs_background": "light"
     },
     "output_type": "display_data"
    }
   ],
   "source": [
    "best_rf = best_clf_rf.best_estimator_.fit(X_train_scaled,y_train)\n",
    "feat_importances = pd.Series(best_rf.feature_importances_, index=X_train_scaled.columns)\n",
    "feat_importances.nlargest(20).plot(kind='barh')"
   ]
  },
  {
   "cell_type": "code",
   "execution_count": 48,
   "metadata": {
    "execution": {
     "iopub.execute_input": "2023-04-07T19:20:28.171417Z",
     "iopub.status.busy": "2023-04-07T19:20:28.170870Z",
     "iopub.status.idle": "2023-04-07T19:20:28.176306Z",
     "shell.execute_reply": "2023-04-07T19:20:28.176824Z"
    },
    "papermill": {
     "duration": 0.069742,
     "end_time": "2023-04-07T19:20:28.176989",
     "exception": false,
     "start_time": "2023-04-07T19:20:28.107247",
     "status": "completed"
    },
    "tags": []
   },
   "outputs": [
    {
     "data": {
      "text/plain": [
       "\"xgb = XGBClassifier(random_state = 1)\\n\\nparam_grid = {\\n    'n_estimators': [20, 50, 100, 250, 500,1000],\\n    'colsample_bytree': [0.2, 0.5, 0.7, 0.8, 1],\\n    'max_depth': [2, 5, 10, 15, 20, 25, None],\\n    'reg_alpha': [0, 0.5, 1],\\n    'reg_lambda': [1, 1.5, 2],\\n    'subsample': [0.5,0.6,0.7, 0.8, 0.9],\\n    'learning_rate':[.01,0.1,0.2,0.3,0.5, 0.7, 0.9],\\n    'gamma':[0,.01,.1,1,10,100],\\n    'min_child_weight':[0,.01,0.1,1,10,100],\\n    'sampling_method': ['uniform', 'gradient_based']\\n}\\n\\n#clf_xgb = GridSearchCV(xgb, param_grid = param_grid, cv = 5, verbose = True, n_jobs = -1)\\n#best_clf_xgb = clf_xgb.fit(X_train_scaled,y_train)\\n#clf_performance(best_clf_xgb,'XGB')\\nclf_xgb_rnd = RandomizedSearchCV(xgb, param_distributions = param_grid, n_iter = 1000, cv = 5, verbose = True, n_jobs = -1)\\nbest_clf_xgb_rnd = clf_xgb_rnd.fit(X_train_scaled,y_train)\\nclf_performance(best_clf_xgb_rnd,'XGB')\""
      ]
     },
     "execution_count": 48,
     "metadata": {},
     "output_type": "execute_result"
    }
   ],
   "source": [
    "\"\"\"xgb = XGBClassifier(random_state = 1)\n",
    "\n",
    "param_grid = {\n",
    "    'n_estimators': [20, 50, 100, 250, 500,1000],\n",
    "    'colsample_bytree': [0.2, 0.5, 0.7, 0.8, 1],\n",
    "    'max_depth': [2, 5, 10, 15, 20, 25, None],\n",
    "    'reg_alpha': [0, 0.5, 1],\n",
    "    'reg_lambda': [1, 1.5, 2],\n",
    "    'subsample': [0.5,0.6,0.7, 0.8, 0.9],\n",
    "    'learning_rate':[.01,0.1,0.2,0.3,0.5, 0.7, 0.9],\n",
    "    'gamma':[0,.01,.1,1,10,100],\n",
    "    'min_child_weight':[0,.01,0.1,1,10,100],\n",
    "    'sampling_method': ['uniform', 'gradient_based']\n",
    "}\n",
    "\n",
    "#clf_xgb = GridSearchCV(xgb, param_grid = param_grid, cv = 5, verbose = True, n_jobs = -1)\n",
    "#best_clf_xgb = clf_xgb.fit(X_train_scaled,y_train)\n",
    "#clf_performance(best_clf_xgb,'XGB')\n",
    "clf_xgb_rnd = RandomizedSearchCV(xgb, param_distributions = param_grid, n_iter = 1000, cv = 5, verbose = True, n_jobs = -1)\n",
    "best_clf_xgb_rnd = clf_xgb_rnd.fit(X_train_scaled,y_train)\n",
    "clf_performance(best_clf_xgb_rnd,'XGB')\"\"\""
   ]
  },
  {
   "cell_type": "code",
   "execution_count": 49,
   "metadata": {
    "execution": {
     "iopub.execute_input": "2023-04-07T19:20:28.302150Z",
     "iopub.status.busy": "2023-04-07T19:20:28.301574Z",
     "iopub.status.idle": "2023-04-07T19:24:49.584642Z",
     "shell.execute_reply": "2023-04-07T19:24:49.585383Z",
     "shell.execute_reply.started": "2023-04-07T18:56:04.160602Z"
    },
    "papermill": {
     "duration": 261.3469,
     "end_time": "2023-04-07T19:24:49.585514",
     "exception": false,
     "start_time": "2023-04-07T19:20:28.238614",
     "status": "completed"
    },
    "tags": []
   },
   "outputs": [
    {
     "name": "stdout",
     "output_type": "stream",
     "text": [
      "Fitting 5 folds for each of 243 candidates, totalling 1215 fits\n"
     ]
    },
    {
     "name": "stderr",
     "output_type": "stream",
     "text": [
      "[Parallel(n_jobs=-1)]: Using backend LokyBackend with 4 concurrent workers.\n",
      "[Parallel(n_jobs=-1)]: Done  42 tasks      | elapsed:    8.7s\n",
      "[Parallel(n_jobs=-1)]: Done 192 tasks      | elapsed:   39.0s\n",
      "[Parallel(n_jobs=-1)]: Done 442 tasks      | elapsed:  1.5min\n",
      "[Parallel(n_jobs=-1)]: Done 792 tasks      | elapsed:  2.8min\n",
      "[Parallel(n_jobs=-1)]: Done 1215 out of 1215 | elapsed:  4.3min finished\n"
     ]
    },
    {
     "name": "stdout",
     "output_type": "stream",
     "text": [
      "XGB\n",
      "Best Score: 0.8515266933282548\n",
      "Best Parameters: {'colsample_bytree': 0.8, 'gamma': 0.5, 'learning_rate': 0.5, 'max_depth': None, 'min_child_weight': 0.01, 'n_estimators': 550, 'reg_alpha': 1, 'reg_lambda': 10, 'sampling_method': 'uniform', 'subsample': 0.65}\n"
     ]
    }
   ],
   "source": [
    "xgb = XGBClassifier(random_state = 1)\n",
    "\n",
    "param_grid = {\n",
    "    'n_estimators': [450,500,550],\n",
    "    'colsample_bytree': [0.75,0.8,0.85],\n",
    "    'max_depth': [None],\n",
    "    'reg_alpha': [1],\n",
    "    'reg_lambda': [2, 5, 10],\n",
    "    'subsample': [0.55, 0.6, .65],\n",
    "    'learning_rate':[0.5],\n",
    "    'gamma':[.5,1,2],\n",
    "    'min_child_weight':[0.01],\n",
    "    'sampling_method': ['uniform']\n",
    "}\n",
    "\n",
    "clf_xgb = GridSearchCV(xgb, param_grid = param_grid, cv = 5, verbose = True, n_jobs = -1)\n",
    "best_clf_xgb = clf_xgb.fit(X_train_scaled,y_train)\n",
    "clf_performance(best_clf_xgb,'XGB')\n"
   ]
  },
  {
   "cell_type": "code",
   "execution_count": 50,
   "metadata": {
    "execution": {
     "iopub.execute_input": "2023-04-07T19:24:49.752920Z",
     "iopub.status.busy": "2023-04-07T19:24:49.752092Z",
     "iopub.status.idle": "2023-04-07T19:24:49.759624Z",
     "shell.execute_reply": "2023-04-07T19:24:49.760132Z",
     "shell.execute_reply.started": "2023-04-07T19:04:33.718982Z"
    },
    "papermill": {
     "duration": 0.096369,
     "end_time": "2023-04-07T19:24:49.760321",
     "exception": false,
     "start_time": "2023-04-07T19:24:49.663952",
     "status": "completed"
    },
    "tags": []
   },
   "outputs": [],
   "source": [
    "y_hat_xgb = best_clf_xgb.best_estimator_.predict(X_test_scaled).astype(int)\n",
    "xgb_submission = {'PassengerId': test_data.PassengerId, 'Survived': y_hat_xgb}\n",
    "submission_xgb = pd.DataFrame(data=xgb_submission)\n",
    "submission_xgb.to_csv('xgb_submission3.csv', index=False)"
   ]
  },
  {
   "cell_type": "markdown",
   "metadata": {
    "papermill": {
     "duration": 0.0769,
     "end_time": "2023-04-07T19:24:49.915005",
     "exception": false,
     "start_time": "2023-04-07T19:24:49.838105",
     "status": "completed"
    },
    "tags": []
   },
   "source": [
    "## Model Additional Ensemble Approaches \n",
    "1) Experimented with a hard voting classifier of three estimators (KNN, SVM, RF) (81.6%)\n",
    "\n",
    "2) **Experimented with a soft voting classifier of three estimators (KNN, SVM, RF) (82.3%) (Best Performance)**\n",
    "\n",
    "3) Experimented with soft voting on all estimators performing better than 80% except xgb (KNN, RF, LR, SVC) (82.9%)\n",
    "\n",
    "4) Experimented with soft voting on all estimators including XGB (KNN, SVM, RF, LR, XGB) (83.5%)"
   ]
  },
  {
   "cell_type": "code",
   "execution_count": 51,
   "metadata": {
    "execution": {
     "iopub.execute_input": "2023-04-07T19:24:50.060939Z",
     "iopub.status.busy": "2023-04-07T19:24:50.058806Z",
     "iopub.status.idle": "2023-04-07T19:25:37.079070Z",
     "shell.execute_reply": "2023-04-07T19:25:37.079745Z",
     "shell.execute_reply.started": "2023-04-07T19:04:46.086130Z"
    },
    "papermill": {
     "duration": 47.094888,
     "end_time": "2023-04-07T19:25:37.079907",
     "exception": false,
     "start_time": "2023-04-07T19:24:49.985019",
     "status": "completed"
    },
    "tags": []
   },
   "outputs": [
    {
     "name": "stdout",
     "output_type": "stream",
     "text": [
      "voting_clf_hard : [0.79213483 0.81460674 0.82022472 0.79775281 0.83615819]\n",
      "voting_clf_hard mean : 0.8121754586427983\n",
      "voting_clf_soft : [0.78651685 0.82022472 0.81460674 0.79775281 0.85310734]\n",
      "voting_clf_soft mean : 0.8133180981400369\n",
      "voting_clf_all : [0.80898876 0.83146067 0.8258427  0.80898876 0.85875706]\n",
      "voting_clf_all mean : 0.8268075922046595\n",
      "voting_clf_xgb : [0.82022472 0.8258427  0.83146067 0.80898876 0.8700565 ]\n",
      "voting_clf_xgb mean : 0.8313146702215451\n"
     ]
    }
   ],
   "source": [
    "best_lr = best_clf_lr.best_estimator_\n",
    "best_knn = best_clf_knn.best_estimator_\n",
    "best_svc = best_clf_svc.best_estimator_\n",
    "best_rf = best_clf_rf.best_estimator_\n",
    "best_xgb = best_clf_xgb.best_estimator_\n",
    "\n",
    "voting_clf_hard = VotingClassifier(estimators = [('knn',best_knn),('rf',best_rf),('svc',best_svc)], voting = 'hard') \n",
    "voting_clf_soft = VotingClassifier(estimators = [('knn',best_knn),('rf',best_rf),('svc',best_svc)], voting = 'soft') \n",
    "voting_clf_all = VotingClassifier(estimators = [('knn',best_knn),('rf',best_rf),('svc',best_svc), ('lr', best_lr)], voting = 'soft') \n",
    "voting_clf_xgb = VotingClassifier(estimators = [('knn',best_knn),('rf',best_rf),('svc',best_svc), ('xgb', best_xgb),('lr', best_lr)], voting = 'soft')\n",
    "\n",
    "print('voting_clf_hard :',cross_val_score(voting_clf_hard,X_train,y_train,cv=5))\n",
    "print('voting_clf_hard mean :',cross_val_score(voting_clf_hard,X_train,y_train,cv=5).mean())\n",
    "\n",
    "print('voting_clf_soft :',cross_val_score(voting_clf_soft,X_train,y_train,cv=5))\n",
    "print('voting_clf_soft mean :',cross_val_score(voting_clf_soft,X_train,y_train,cv=5).mean())\n",
    "\n",
    "print('voting_clf_all :',cross_val_score(voting_clf_all,X_train,y_train,cv=5))\n",
    "print('voting_clf_all mean :',cross_val_score(voting_clf_all,X_train,y_train,cv=5).mean())\n",
    "\n",
    "print('voting_clf_xgb :',cross_val_score(voting_clf_xgb,X_train,y_train,cv=5))\n",
    "print('voting_clf_xgb mean :',cross_val_score(voting_clf_xgb,X_train,y_train,cv=5).mean())\n"
   ]
  },
  {
   "cell_type": "code",
   "execution_count": 52,
   "metadata": {
    "execution": {
     "iopub.execute_input": "2023-04-07T19:25:37.250457Z",
     "iopub.status.busy": "2023-04-07T19:25:37.249807Z",
     "iopub.status.idle": "2023-04-07T19:25:52.368115Z",
     "shell.execute_reply": "2023-04-07T19:25:52.367454Z",
     "shell.execute_reply.started": "2023-04-07T19:05:56.544809Z"
    },
    "papermill": {
     "duration": 15.207445,
     "end_time": "2023-04-07T19:25:52.368252",
     "exception": false,
     "start_time": "2023-04-07T19:25:37.160807",
     "status": "completed"
    },
    "tags": []
   },
   "outputs": [
    {
     "name": "stdout",
     "output_type": "stream",
     "text": [
      "Fitting 5 folds for each of 7 candidates, totalling 35 fits\n"
     ]
    },
    {
     "name": "stderr",
     "output_type": "stream",
     "text": [
      "[Parallel(n_jobs=-1)]: Using backend LokyBackend with 4 concurrent workers.\n",
      "[Parallel(n_jobs=-1)]: Done  35 out of  35 | elapsed:   13.9s finished\n"
     ]
    },
    {
     "name": "stdout",
     "output_type": "stream",
     "text": [
      "VC Weights\n",
      "Best Score: 0.83244461372437\n",
      "Best Parameters: {'weights': [2, 2, 1]}\n"
     ]
    }
   ],
   "source": [
    "#in a soft voting classifier you can weight some models more than others. I used a grid search to explore different weightings\n",
    "#no new results here\n",
    "params = {'weights' : [[1,1,1],[1,2,1],[1,1,2],[2,1,1],[2,2,1],[1,2,2],[2,1,2]]}\n",
    "\n",
    "vote_weight = GridSearchCV(voting_clf_soft, param_grid = params, cv = 5, verbose = True, n_jobs = -1)\n",
    "best_clf_weight = vote_weight.fit(X_train_scaled,y_train)\n",
    "clf_performance(best_clf_weight,'VC Weights')\n",
    "voting_clf_sub = best_clf_weight.best_estimator_.predict(X_test_scaled)\n"
   ]
  },
  {
   "cell_type": "code",
   "execution_count": 53,
   "metadata": {
    "execution": {
     "iopub.execute_input": "2023-04-07T19:25:52.521887Z",
     "iopub.status.busy": "2023-04-07T19:25:52.521251Z",
     "iopub.status.idle": "2023-04-07T19:25:58.773168Z",
     "shell.execute_reply": "2023-04-07T19:25:58.772519Z",
     "shell.execute_reply.started": "2023-04-07T19:06:26.145732Z"
    },
    "papermill": {
     "duration": 6.337779,
     "end_time": "2023-04-07T19:25:58.773302",
     "exception": false,
     "start_time": "2023-04-07T19:25:52.435523",
     "status": "completed"
    },
    "tags": []
   },
   "outputs": [],
   "source": [
    "#Make Predictions \n",
    "voting_clf_hard.fit(X_train_scaled, y_train)\n",
    "voting_clf_soft.fit(X_train_scaled, y_train)\n",
    "voting_clf_all.fit(X_train_scaled, y_train)\n",
    "voting_clf_xgb.fit(X_train_scaled, y_train)\n",
    "\n",
    "best_rf.fit(X_train_scaled, y_train)\n",
    "y_hat_vc_hard = voting_clf_hard.predict(X_test_scaled).astype(int)\n",
    "y_hat_rf = best_rf.predict(X_test_scaled).astype(int)\n",
    "y_hat_vc_soft =  voting_clf_soft.predict(X_test_scaled).astype(int)\n",
    "y_hat_vc_all = voting_clf_all.predict(X_test_scaled).astype(int)\n",
    "y_hat_vc_xgb = voting_clf_xgb.predict(X_test_scaled).astype(int)"
   ]
  },
  {
   "cell_type": "code",
   "execution_count": 54,
   "metadata": {
    "execution": {
     "iopub.execute_input": "2023-04-07T19:25:58.944001Z",
     "iopub.status.busy": "2023-04-07T19:25:58.943351Z",
     "iopub.status.idle": "2023-04-07T19:25:58.948788Z",
     "shell.execute_reply": "2023-04-07T19:25:58.949565Z",
     "shell.execute_reply.started": "2023-04-07T19:07:00.587487Z"
    },
    "papermill": {
     "duration": 0.0958,
     "end_time": "2023-04-07T19:25:58.949706",
     "exception": false,
     "start_time": "2023-04-07T19:25:58.853906",
     "status": "completed"
    },
    "tags": []
   },
   "outputs": [],
   "source": [
    "#convert output to dataframe \n",
    "final_data = {'PassengerId': test_data.PassengerId, 'Survived': y_hat_rf}\n",
    "submission = pd.DataFrame(data=final_data)\n",
    "\n",
    "final_data_2 = {'PassengerId': test_data.PassengerId, 'Survived': y_hat_vc_hard}\n",
    "submission_2 = pd.DataFrame(data=final_data_2)\n",
    "\n",
    "final_data_3 = {'PassengerId': test_data.PassengerId, 'Survived': y_hat_vc_soft}\n",
    "submission_3 = pd.DataFrame(data=final_data_3)\n",
    "\n",
    "final_data_4 = {'PassengerId': test_data.PassengerId, 'Survived': y_hat_vc_all}\n",
    "submission_4 = pd.DataFrame(data=final_data_4)\n",
    "\n",
    "final_data_5 = {'PassengerId': test_data.PassengerId, 'Survived': y_hat_vc_xgb}\n",
    "submission_5 = pd.DataFrame(data=final_data_5)\n",
    "\n",
    "final_data_comp = {'PassengerId': test_data.PassengerId, 'Survived_vc_hard': y_hat_vc_hard, 'Survived_rf': y_hat_rf, 'Survived_vc_soft' : y_hat_vc_soft, 'Survived_vc_all' : y_hat_vc_all,  'Survived_vc_xgb' : y_hat_vc_xgb}\n",
    "comparison = pd.DataFrame(data=final_data_comp)"
   ]
  },
  {
   "cell_type": "code",
   "execution_count": 55,
   "metadata": {
    "execution": {
     "iopub.execute_input": "2023-04-07T19:25:59.091768Z",
     "iopub.status.busy": "2023-04-07T19:25:59.091055Z",
     "iopub.status.idle": "2023-04-07T19:25:59.143003Z",
     "shell.execute_reply": "2023-04-07T19:25:59.142471Z",
     "shell.execute_reply.started": "2023-04-07T19:07:07.572571Z"
    },
    "papermill": {
     "duration": 0.124126,
     "end_time": "2023-04-07T19:25:59.143116",
     "exception": false,
     "start_time": "2023-04-07T19:25:59.018990",
     "status": "completed"
    },
    "tags": []
   },
   "outputs": [],
   "source": [
    "#track differences between outputs \n",
    "comparison['difference_rf_vc_hard'] = comparison.apply(lambda x: 1 if x.Survived_vc_hard != x.Survived_rf else 0, axis =1)\n",
    "comparison['difference_soft_hard'] = comparison.apply(lambda x: 1 if x.Survived_vc_hard != x.Survived_vc_soft else 0, axis =1)\n",
    "comparison['difference_hard_all'] = comparison.apply(lambda x: 1 if x.Survived_vc_all != x.Survived_vc_hard else 0, axis =1)\n"
   ]
  },
  {
   "cell_type": "code",
   "execution_count": 56,
   "metadata": {
    "execution": {
     "iopub.execute_input": "2023-04-07T19:25:59.284707Z",
     "iopub.status.busy": "2023-04-07T19:25:59.283937Z",
     "iopub.status.idle": "2023-04-07T19:25:59.288555Z",
     "shell.execute_reply": "2023-04-07T19:25:59.288059Z",
     "shell.execute_reply.started": "2023-04-07T19:07:12.047572Z"
    },
    "papermill": {
     "duration": 0.078837,
     "end_time": "2023-04-07T19:25:59.288659",
     "exception": false,
     "start_time": "2023-04-07T19:25:59.209822",
     "status": "completed"
    },
    "tags": []
   },
   "outputs": [
    {
     "data": {
      "text/plain": [
       "0    410\n",
       "1      8\n",
       "Name: difference_hard_all, dtype: int64"
      ]
     },
     "execution_count": 56,
     "metadata": {},
     "output_type": "execute_result"
    }
   ],
   "source": [
    "comparison.difference_hard_all.value_counts()"
   ]
  },
  {
   "cell_type": "code",
   "execution_count": 57,
   "metadata": {
    "execution": {
     "iopub.execute_input": "2023-04-07T19:25:59.429951Z",
     "iopub.status.busy": "2023-04-07T19:25:59.429279Z",
     "iopub.status.idle": "2023-04-07T19:25:59.437925Z",
     "shell.execute_reply": "2023-04-07T19:25:59.437187Z",
     "shell.execute_reply.started": "2023-04-07T19:07:15.107468Z"
    },
    "papermill": {
     "duration": 0.082494,
     "end_time": "2023-04-07T19:25:59.438046",
     "exception": false,
     "start_time": "2023-04-07T19:25:59.355552",
     "status": "completed"
    },
    "tags": []
   },
   "outputs": [],
   "source": [
    "#prepare submission files \n",
    "submission.to_csv('submission_rf.csv', index =False)\n",
    "submission_2.to_csv('submission_vc_hard.csv',index=False)\n",
    "submission_3.to_csv('submission_vc_soft.csv', index=False)\n",
    "submission_4.to_csv('submission_vc_all.csv', index=False)\n",
    "submission_5.to_csv('submission_vc_xgb2.csv', index=False)"
   ]
  }
 ],
 "metadata": {
  "kernelspec": {
   "display_name": "Python 3",
   "language": "python",
   "name": "python3"
  },
  "language_info": {
   "codemirror_mode": {
    "name": "ipython",
    "version": 3
   },
   "file_extension": ".py",
   "mimetype": "text/x-python",
   "name": "python",
   "nbconvert_exporter": "python",
   "pygments_lexer": "ipython3",
   "version": "3.7.6"
  },
  "papermill": {
   "duration": 939.423136,
   "end_time": "2023-04-07T19:25:59.630717",
   "environment_variables": {},
   "exception": null,
   "input_path": "__notebook__.ipynb",
   "output_path": "__notebook__.ipynb",
   "parameters": {},
   "start_time": "2023-04-07T19:10:20.207581",
   "version": "2.1.0"
  }
 },
 "nbformat": 4,
 "nbformat_minor": 4
}
